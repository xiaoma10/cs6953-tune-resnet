{
  "nbformat": 4,
  "nbformat_minor": 0,
  "metadata": {
    "colab": {
      "provenance": []
    },
    "kernelspec": {
      "name": "python3",
      "display_name": "Python 3"
    },
    "language_info": {
      "name": "python"
    },
    "accelerator": "GPU",
    "gpuClass": "standard",
    "widgets": {
      "application/vnd.jupyter.widget-state+json": {
        "9e8985f022a54b71a910512cc668fc00": {
          "model_module": "@jupyter-widgets/controls",
          "model_name": "HBoxModel",
          "model_module_version": "1.5.0",
          "state": {
            "_dom_classes": [],
            "_model_module": "@jupyter-widgets/controls",
            "_model_module_version": "1.5.0",
            "_model_name": "HBoxModel",
            "_view_count": null,
            "_view_module": "@jupyter-widgets/controls",
            "_view_module_version": "1.5.0",
            "_view_name": "HBoxView",
            "box_style": "",
            "children": [
              "IPY_MODEL_4ee600e265384d05bbc2437fb76e76cb",
              "IPY_MODEL_800e67f57f824285bed04102dceb6b66",
              "IPY_MODEL_845ac685edea434486f0cbaf2c1cc4cd"
            ],
            "layout": "IPY_MODEL_5af33fb0adfd436ba020855cadd7083c"
          }
        },
        "4ee600e265384d05bbc2437fb76e76cb": {
          "model_module": "@jupyter-widgets/controls",
          "model_name": "HTMLModel",
          "model_module_version": "1.5.0",
          "state": {
            "_dom_classes": [],
            "_model_module": "@jupyter-widgets/controls",
            "_model_module_version": "1.5.0",
            "_model_name": "HTMLModel",
            "_view_count": null,
            "_view_module": "@jupyter-widgets/controls",
            "_view_module_version": "1.5.0",
            "_view_name": "HTMLView",
            "description": "",
            "description_tooltip": null,
            "layout": "IPY_MODEL_c60f1c363d944bd182c67e67980b8991",
            "placeholder": "​",
            "style": "IPY_MODEL_c4ae7a6e0e3d4ab380a68ac68c98eafb",
            "value": "100%"
          }
        },
        "800e67f57f824285bed04102dceb6b66": {
          "model_module": "@jupyter-widgets/controls",
          "model_name": "FloatProgressModel",
          "model_module_version": "1.5.0",
          "state": {
            "_dom_classes": [],
            "_model_module": "@jupyter-widgets/controls",
            "_model_module_version": "1.5.0",
            "_model_name": "FloatProgressModel",
            "_view_count": null,
            "_view_module": "@jupyter-widgets/controls",
            "_view_module_version": "1.5.0",
            "_view_name": "ProgressView",
            "bar_style": "success",
            "description": "",
            "description_tooltip": null,
            "layout": "IPY_MODEL_b4b7f19a8a99419fabf5a19d4f4a634d",
            "max": 170498071,
            "min": 0,
            "orientation": "horizontal",
            "style": "IPY_MODEL_71f9419c1bef4f4ea1ef33e12c5bb1fd",
            "value": 170498071
          }
        },
        "845ac685edea434486f0cbaf2c1cc4cd": {
          "model_module": "@jupyter-widgets/controls",
          "model_name": "HTMLModel",
          "model_module_version": "1.5.0",
          "state": {
            "_dom_classes": [],
            "_model_module": "@jupyter-widgets/controls",
            "_model_module_version": "1.5.0",
            "_model_name": "HTMLModel",
            "_view_count": null,
            "_view_module": "@jupyter-widgets/controls",
            "_view_module_version": "1.5.0",
            "_view_name": "HTMLView",
            "description": "",
            "description_tooltip": null,
            "layout": "IPY_MODEL_325197f27a2141818300df16004b75f3",
            "placeholder": "​",
            "style": "IPY_MODEL_de88feed9843490b9200589e2788ecf9",
            "value": " 170498071/170498071 [00:13&lt;00:00, 13965696.82it/s]"
          }
        },
        "5af33fb0adfd436ba020855cadd7083c": {
          "model_module": "@jupyter-widgets/base",
          "model_name": "LayoutModel",
          "model_module_version": "1.2.0",
          "state": {
            "_model_module": "@jupyter-widgets/base",
            "_model_module_version": "1.2.0",
            "_model_name": "LayoutModel",
            "_view_count": null,
            "_view_module": "@jupyter-widgets/base",
            "_view_module_version": "1.2.0",
            "_view_name": "LayoutView",
            "align_content": null,
            "align_items": null,
            "align_self": null,
            "border": null,
            "bottom": null,
            "display": null,
            "flex": null,
            "flex_flow": null,
            "grid_area": null,
            "grid_auto_columns": null,
            "grid_auto_flow": null,
            "grid_auto_rows": null,
            "grid_column": null,
            "grid_gap": null,
            "grid_row": null,
            "grid_template_areas": null,
            "grid_template_columns": null,
            "grid_template_rows": null,
            "height": null,
            "justify_content": null,
            "justify_items": null,
            "left": null,
            "margin": null,
            "max_height": null,
            "max_width": null,
            "min_height": null,
            "min_width": null,
            "object_fit": null,
            "object_position": null,
            "order": null,
            "overflow": null,
            "overflow_x": null,
            "overflow_y": null,
            "padding": null,
            "right": null,
            "top": null,
            "visibility": null,
            "width": null
          }
        },
        "c60f1c363d944bd182c67e67980b8991": {
          "model_module": "@jupyter-widgets/base",
          "model_name": "LayoutModel",
          "model_module_version": "1.2.0",
          "state": {
            "_model_module": "@jupyter-widgets/base",
            "_model_module_version": "1.2.0",
            "_model_name": "LayoutModel",
            "_view_count": null,
            "_view_module": "@jupyter-widgets/base",
            "_view_module_version": "1.2.0",
            "_view_name": "LayoutView",
            "align_content": null,
            "align_items": null,
            "align_self": null,
            "border": null,
            "bottom": null,
            "display": null,
            "flex": null,
            "flex_flow": null,
            "grid_area": null,
            "grid_auto_columns": null,
            "grid_auto_flow": null,
            "grid_auto_rows": null,
            "grid_column": null,
            "grid_gap": null,
            "grid_row": null,
            "grid_template_areas": null,
            "grid_template_columns": null,
            "grid_template_rows": null,
            "height": null,
            "justify_content": null,
            "justify_items": null,
            "left": null,
            "margin": null,
            "max_height": null,
            "max_width": null,
            "min_height": null,
            "min_width": null,
            "object_fit": null,
            "object_position": null,
            "order": null,
            "overflow": null,
            "overflow_x": null,
            "overflow_y": null,
            "padding": null,
            "right": null,
            "top": null,
            "visibility": null,
            "width": null
          }
        },
        "c4ae7a6e0e3d4ab380a68ac68c98eafb": {
          "model_module": "@jupyter-widgets/controls",
          "model_name": "DescriptionStyleModel",
          "model_module_version": "1.5.0",
          "state": {
            "_model_module": "@jupyter-widgets/controls",
            "_model_module_version": "1.5.0",
            "_model_name": "DescriptionStyleModel",
            "_view_count": null,
            "_view_module": "@jupyter-widgets/base",
            "_view_module_version": "1.2.0",
            "_view_name": "StyleView",
            "description_width": ""
          }
        },
        "b4b7f19a8a99419fabf5a19d4f4a634d": {
          "model_module": "@jupyter-widgets/base",
          "model_name": "LayoutModel",
          "model_module_version": "1.2.0",
          "state": {
            "_model_module": "@jupyter-widgets/base",
            "_model_module_version": "1.2.0",
            "_model_name": "LayoutModel",
            "_view_count": null,
            "_view_module": "@jupyter-widgets/base",
            "_view_module_version": "1.2.0",
            "_view_name": "LayoutView",
            "align_content": null,
            "align_items": null,
            "align_self": null,
            "border": null,
            "bottom": null,
            "display": null,
            "flex": null,
            "flex_flow": null,
            "grid_area": null,
            "grid_auto_columns": null,
            "grid_auto_flow": null,
            "grid_auto_rows": null,
            "grid_column": null,
            "grid_gap": null,
            "grid_row": null,
            "grid_template_areas": null,
            "grid_template_columns": null,
            "grid_template_rows": null,
            "height": null,
            "justify_content": null,
            "justify_items": null,
            "left": null,
            "margin": null,
            "max_height": null,
            "max_width": null,
            "min_height": null,
            "min_width": null,
            "object_fit": null,
            "object_position": null,
            "order": null,
            "overflow": null,
            "overflow_x": null,
            "overflow_y": null,
            "padding": null,
            "right": null,
            "top": null,
            "visibility": null,
            "width": null
          }
        },
        "71f9419c1bef4f4ea1ef33e12c5bb1fd": {
          "model_module": "@jupyter-widgets/controls",
          "model_name": "ProgressStyleModel",
          "model_module_version": "1.5.0",
          "state": {
            "_model_module": "@jupyter-widgets/controls",
            "_model_module_version": "1.5.0",
            "_model_name": "ProgressStyleModel",
            "_view_count": null,
            "_view_module": "@jupyter-widgets/base",
            "_view_module_version": "1.2.0",
            "_view_name": "StyleView",
            "bar_color": null,
            "description_width": ""
          }
        },
        "325197f27a2141818300df16004b75f3": {
          "model_module": "@jupyter-widgets/base",
          "model_name": "LayoutModel",
          "model_module_version": "1.2.0",
          "state": {
            "_model_module": "@jupyter-widgets/base",
            "_model_module_version": "1.2.0",
            "_model_name": "LayoutModel",
            "_view_count": null,
            "_view_module": "@jupyter-widgets/base",
            "_view_module_version": "1.2.0",
            "_view_name": "LayoutView",
            "align_content": null,
            "align_items": null,
            "align_self": null,
            "border": null,
            "bottom": null,
            "display": null,
            "flex": null,
            "flex_flow": null,
            "grid_area": null,
            "grid_auto_columns": null,
            "grid_auto_flow": null,
            "grid_auto_rows": null,
            "grid_column": null,
            "grid_gap": null,
            "grid_row": null,
            "grid_template_areas": null,
            "grid_template_columns": null,
            "grid_template_rows": null,
            "height": null,
            "justify_content": null,
            "justify_items": null,
            "left": null,
            "margin": null,
            "max_height": null,
            "max_width": null,
            "min_height": null,
            "min_width": null,
            "object_fit": null,
            "object_position": null,
            "order": null,
            "overflow": null,
            "overflow_x": null,
            "overflow_y": null,
            "padding": null,
            "right": null,
            "top": null,
            "visibility": null,
            "width": null
          }
        },
        "de88feed9843490b9200589e2788ecf9": {
          "model_module": "@jupyter-widgets/controls",
          "model_name": "DescriptionStyleModel",
          "model_module_version": "1.5.0",
          "state": {
            "_model_module": "@jupyter-widgets/controls",
            "_model_module_version": "1.5.0",
            "_model_name": "DescriptionStyleModel",
            "_view_count": null,
            "_view_module": "@jupyter-widgets/base",
            "_view_module_version": "1.2.0",
            "_view_name": "StyleView",
            "description_width": ""
          }
        }
      }
    }
  },
  "cells": [
    {
      "cell_type": "code",
      "execution_count": 5,
      "metadata": {
        "id": "uz-LPQUEwyiT"
      },
      "outputs": [],
      "source": [
        "import numpy as np\n",
        "import torch \n",
        "import torch.nn as nn \n",
        "import torch.nn.functional as F \n",
        "import torchvision\n",
        "from torchsummary import summary "
      ]
    },
    {
      "cell_type": "code",
      "source": [
        "import matplotlib.pyplot as plt \n",
        "%matplotlib inline "
      ],
      "metadata": {
        "id": "yMiJing_gvLd"
      },
      "execution_count": 6,
      "outputs": []
    },
    {
      "cell_type": "markdown",
      "source": [
        "## Reference \n",
        "Part of the code in this notebook is taken from the pytorch-cifar repository created by kuangliu."
      ],
      "metadata": {
        "id": "JZYA7vYIjdOv"
      }
    },
    {
      "cell_type": "code",
      "source": [
        "!git clone https://github.com/kuangliu/pytorch-cifar.git"
      ],
      "metadata": {
        "colab": {
          "base_uri": "https://localhost:8080/"
        },
        "id": "GzQw_TXS1wVF",
        "outputId": "4ffde772-5cfd-4ef4-eb1f-69353daa6ca3"
      },
      "execution_count": 7,
      "outputs": [
        {
          "output_type": "stream",
          "name": "stdout",
          "text": [
            "Cloning into 'pytorch-cifar'...\n",
            "remote: Enumerating objects: 382, done.\u001b[K\n",
            "remote: Total 382 (delta 0), reused 0 (delta 0), pack-reused 382\u001b[K\n",
            "Receiving objects: 100% (382/382), 85.69 KiB | 14.28 MiB/s, done.\n",
            "Resolving deltas: 100% (195/195), done.\n"
          ]
        }
      ]
    },
    {
      "cell_type": "code",
      "source": [
        "%cd /content/pytorch-cifar/models\n",
        "from resnet import BasicBlock, Bottleneck, ResNet, ResNet18"
      ],
      "metadata": {
        "colab": {
          "base_uri": "https://localhost:8080/"
        },
        "id": "jTKjvgXa1xPr",
        "outputId": "77c85462-6c13-448f-fd8f-1ab88bce4a61"
      },
      "execution_count": 8,
      "outputs": [
        {
          "output_type": "stream",
          "name": "stdout",
          "text": [
            "/content/pytorch-cifar/models\n"
          ]
        }
      ]
    },
    {
      "cell_type": "markdown",
      "source": [
        "# Prepare and load CIFAR-10 dataset"
      ],
      "metadata": {
        "id": "ijnJEy7arXsl"
      }
    },
    {
      "cell_type": "code",
      "source": [
        "trainingdata = torchvision.datasets.CIFAR10('./CIFAR10', train=True, download=True, transform=torchvision.transforms.ToTensor())\n",
        "testdata = torchvision.datasets.CIFAR10('./CIFAR10', train=False, download=True, transform=torchvision.transforms.ToTensor())"
      ],
      "metadata": {
        "colab": {
          "base_uri": "https://localhost:8080/",
          "height": 103,
          "referenced_widgets": [
            "9e8985f022a54b71a910512cc668fc00",
            "4ee600e265384d05bbc2437fb76e76cb",
            "800e67f57f824285bed04102dceb6b66",
            "845ac685edea434486f0cbaf2c1cc4cd",
            "5af33fb0adfd436ba020855cadd7083c",
            "c60f1c363d944bd182c67e67980b8991",
            "c4ae7a6e0e3d4ab380a68ac68c98eafb",
            "b4b7f19a8a99419fabf5a19d4f4a634d",
            "71f9419c1bef4f4ea1ef33e12c5bb1fd",
            "325197f27a2141818300df16004b75f3",
            "de88feed9843490b9200589e2788ecf9"
          ]
        },
        "id": "4Fdi2jSMrfIf",
        "outputId": "0c849ef4-d85e-4a94-ab73-b8f7f1e9275e"
      },
      "execution_count": 12,
      "outputs": [
        {
          "output_type": "stream",
          "name": "stdout",
          "text": [
            "Downloading https://www.cs.toronto.edu/~kriz/cifar-10-python.tar.gz to ./CIFAR10/cifar-10-python.tar.gz\n"
          ]
        },
        {
          "output_type": "display_data",
          "data": {
            "text/plain": [
              "  0%|          | 0/170498071 [00:00<?, ?it/s]"
            ],
            "application/vnd.jupyter.widget-view+json": {
              "version_major": 2,
              "version_minor": 0,
              "model_id": "9e8985f022a54b71a910512cc668fc00"
            }
          },
          "metadata": {}
        },
        {
          "output_type": "stream",
          "name": "stdout",
          "text": [
            "Extracting ./CIFAR10/cifar-10-python.tar.gz to ./CIFAR10\n",
            "Files already downloaded and verified\n"
          ]
        }
      ]
    },
    {
      "cell_type": "code",
      "source": [
        "print(len(trainingdata))\n",
        "print(len(testdata))"
      ],
      "metadata": {
        "colab": {
          "base_uri": "https://localhost:8080/"
        },
        "id": "n43znhh9s8af",
        "outputId": "b1fa84c8-52a6-4387-be5c-3d26dfb261b1"
      },
      "execution_count": 13,
      "outputs": [
        {
          "output_type": "stream",
          "name": "stdout",
          "text": [
            "50000\n",
            "10000\n"
          ]
        }
      ]
    },
    {
      "cell_type": "code",
      "source": [
        "image, label = trainingdata[0]\n",
        "print(image.shape, image, label)"
      ],
      "metadata": {
        "colab": {
          "base_uri": "https://localhost:8080/"
        },
        "id": "yc9BnAVBs_hm",
        "outputId": "7aaf6bc4-4a39-4e88-d9a8-265eb5df80ea"
      },
      "execution_count": 14,
      "outputs": [
        {
          "output_type": "stream",
          "name": "stdout",
          "text": [
            "torch.Size([3, 32, 32]) tensor([[[0.2314, 0.1686, 0.1961,  ..., 0.6196, 0.5961, 0.5804],\n",
            "         [0.0627, 0.0000, 0.0706,  ..., 0.4824, 0.4667, 0.4784],\n",
            "         [0.0980, 0.0627, 0.1922,  ..., 0.4627, 0.4706, 0.4275],\n",
            "         ...,\n",
            "         [0.8157, 0.7882, 0.7765,  ..., 0.6275, 0.2196, 0.2078],\n",
            "         [0.7059, 0.6784, 0.7294,  ..., 0.7216, 0.3804, 0.3255],\n",
            "         [0.6941, 0.6588, 0.7020,  ..., 0.8471, 0.5922, 0.4824]],\n",
            "\n",
            "        [[0.2431, 0.1804, 0.1882,  ..., 0.5176, 0.4902, 0.4863],\n",
            "         [0.0784, 0.0000, 0.0314,  ..., 0.3451, 0.3255, 0.3412],\n",
            "         [0.0941, 0.0275, 0.1059,  ..., 0.3294, 0.3294, 0.2863],\n",
            "         ...,\n",
            "         [0.6667, 0.6000, 0.6314,  ..., 0.5216, 0.1216, 0.1333],\n",
            "         [0.5451, 0.4824, 0.5647,  ..., 0.5804, 0.2431, 0.2078],\n",
            "         [0.5647, 0.5059, 0.5569,  ..., 0.7216, 0.4627, 0.3608]],\n",
            "\n",
            "        [[0.2471, 0.1765, 0.1686,  ..., 0.4235, 0.4000, 0.4039],\n",
            "         [0.0784, 0.0000, 0.0000,  ..., 0.2157, 0.1961, 0.2235],\n",
            "         [0.0824, 0.0000, 0.0314,  ..., 0.1961, 0.1961, 0.1647],\n",
            "         ...,\n",
            "         [0.3765, 0.1333, 0.1020,  ..., 0.2745, 0.0275, 0.0784],\n",
            "         [0.3765, 0.1647, 0.1176,  ..., 0.3686, 0.1333, 0.1333],\n",
            "         [0.4549, 0.3686, 0.3412,  ..., 0.5490, 0.3294, 0.2824]]]) 6\n"
          ]
        }
      ]
    },
    {
      "cell_type": "markdown",
      "source": [
        "# Define train/test functions\n"
      ],
      "metadata": {
        "id": "KxtAQAlbvsR1"
      }
    },
    {
      "cell_type": "code",
      "source": [
        "def train(model, loss, trainDataLoader, optimizer): \n",
        "  train_loss = 0 \n",
        "  for i, data in enumerate(trainDataLoader):\n",
        "    images, labels = data \n",
        "    images = images.cuda() \n",
        "    labels = labels.cuda() \n",
        "    optimizer.zero_grad()\n",
        "    predicted_output = model(images)\n",
        "    fit = loss(predicted_output, labels)\n",
        "    fit.backward() \n",
        "    optimizer.step() \n",
        "    train_loss += fit.item()\n",
        "  return train_loss / len(trainDataLoader)"
      ],
      "metadata": {
        "id": "DZmx8LVOJcgC"
      },
      "execution_count": 9,
      "outputs": []
    },
    {
      "cell_type": "code",
      "source": [
        "def eval(model, loss, testDataLoader):\n",
        "  test_loss = 0.0 \n",
        "  correct = 0\n",
        "  for i, data in enumerate(testDataLoader):\n",
        "    with torch.no_grad():\n",
        "      images, labels = data \n",
        "      images = images.cuda() \n",
        "      labels = labels.cuda() \n",
        "      predicted_output = model(images)\n",
        "      fit = loss(predicted_output, labels)\n",
        "      test_loss += fit.item() \n",
        "      correct += testDataLoader.batch_size - (torch.argmax(predicted_output, dim=1) - labels).count_nonzero().item()\n",
        "  return test_loss / len(testDataLoader), correct / len(testdata)"
      ],
      "metadata": {
        "id": "MvyPYt5qJxZr"
      },
      "execution_count": 10,
      "outputs": []
    },
    {
      "cell_type": "code",
      "source": [
        "def train_and_test_model(model, loss, trainDataLoader, testDataLoader, optimizer, epoch=20):\n",
        "  model = model.cuda() \n",
        "  train_loss_history = []\n",
        "  test_loss_history = []\n",
        "  test_accuracy_history = []\n",
        "  for ei in range(epoch):\n",
        "    train_loss = train(model, loss, trainDataLoader, optimizer)\n",
        "    test_loss, test_accuracy = eval(model, loss, testDataLoader)\n",
        "    train_loss_history.append(train_loss)\n",
        "    test_loss_history.append(test_loss)\n",
        "    test_accuracy_history.append(test_accuracy)\n",
        "    print('Epoch %s, Train loss %s, Test loss %s, Test accuracy %s'%(ei, train_loss, test_loss, test_accuracy))\n",
        "  return train_loss_history, test_loss_history, test_accuracy_history"
      ],
      "metadata": {
        "id": "KHMz-Ow-vvmb"
      },
      "execution_count": 11,
      "outputs": []
    },
    {
      "cell_type": "markdown",
      "source": [
        "### Helper functions"
      ],
      "metadata": {
        "id": "8iOrMb4jhgWw"
      }
    },
    {
      "cell_type": "code",
      "source": [
        "def plot_result(train_loss_history, test_loss_history, epoch):\n",
        "  plt.plot(range(epoch),train_loss_history,'-',linewidth=3,label='Train error')\n",
        "  plt.plot(range(epoch),test_loss_history,'-',linewidth=3,label='Test error')\n",
        "  plt.xlabel('epoch')\n",
        "  plt.ylabel('loss')\n",
        "  plt.grid(True)\n",
        "  plt.legend()"
      ],
      "metadata": {
        "id": "77e_xfZxhfNo"
      },
      "execution_count": 23,
      "outputs": []
    },
    {
      "cell_type": "code",
      "source": [
        "def plot_accuracy(test_accuracy_history, epoch):\n",
        "  fig2 = plt.figure(\"Test acc.\")\n",
        "  plt.plot(range(epoch),test_accuracy_history,'-',linewidth=3,label='Test acc.')\n",
        "  plt.xlabel('epoch')\n",
        "  plt.ylabel('acc.')\n",
        "  plt.grid(True)\n",
        "  plt.legend()"
      ],
      "metadata": {
        "id": "784wm0ndMNUY"
      },
      "execution_count": 24,
      "outputs": []
    },
    {
      "cell_type": "code",
      "source": [
        "def best_accuracy(test_accuracy_history):\n",
        "  print('Highest accuracy:', np.max(test_accuracy_history))"
      ],
      "metadata": {
        "id": "upciydwBh3ez"
      },
      "execution_count": 3,
      "outputs": []
    },
    {
      "cell_type": "markdown",
      "source": [
        "# Experiment with different architectures"
      ],
      "metadata": {
        "id": "413o-EwjhH2m"
      }
    },
    {
      "cell_type": "markdown",
      "source": [
        "###Option 1\n",
        "4 Residual Layers \\\n",
        "\n",
        "*  Layer 1: 64 channels, 1 residual blocks, kernel size = 3\n",
        "*  Layer 2: 128 channels, 1 residual blocks, kernel size = 3\n",
        "*  Layer 3: 256 channels, 1 residual blocks, kernel size = 3\n",
        "*  Layer 4: 512 channels, 1 residual blocks, kernel size = 3\n",
        "\n",
        "Total params: 4,903,242 \\\n",
        "Best Acc.: 83.03%"
      ],
      "metadata": {
        "id": "Y9cpg_b911zF"
      }
    },
    {
      "cell_type": "code",
      "source": [
        "net2 = ResNet(BasicBlock, [1, 1, 1, 1])"
      ],
      "metadata": {
        "id": "v6V_ARWv1zoa"
      },
      "execution_count": 51,
      "outputs": []
    },
    {
      "cell_type": "code",
      "source": [
        "summary(net2, input_size=(3, 32, 32), device='cpu')"
      ],
      "metadata": {
        "colab": {
          "base_uri": "https://localhost:8080/"
        },
        "id": "w5Vlu_rI2Yg8",
        "outputId": "067da581-0096-4506-f09d-f1bfb27c8940"
      },
      "execution_count": 52,
      "outputs": [
        {
          "output_type": "stream",
          "name": "stdout",
          "text": [
            "----------------------------------------------------------------\n",
            "        Layer (type)               Output Shape         Param #\n",
            "================================================================\n",
            "            Conv2d-1           [-1, 64, 32, 32]           1,728\n",
            "       BatchNorm2d-2           [-1, 64, 32, 32]             128\n",
            "            Conv2d-3           [-1, 64, 32, 32]          36,864\n",
            "       BatchNorm2d-4           [-1, 64, 32, 32]             128\n",
            "            Conv2d-5           [-1, 64, 32, 32]          36,864\n",
            "       BatchNorm2d-6           [-1, 64, 32, 32]             128\n",
            "        BasicBlock-7           [-1, 64, 32, 32]               0\n",
            "            Conv2d-8          [-1, 128, 16, 16]          73,728\n",
            "       BatchNorm2d-9          [-1, 128, 16, 16]             256\n",
            "           Conv2d-10          [-1, 128, 16, 16]         147,456\n",
            "      BatchNorm2d-11          [-1, 128, 16, 16]             256\n",
            "           Conv2d-12          [-1, 128, 16, 16]           8,192\n",
            "      BatchNorm2d-13          [-1, 128, 16, 16]             256\n",
            "       BasicBlock-14          [-1, 128, 16, 16]               0\n",
            "           Conv2d-15            [-1, 256, 8, 8]         294,912\n",
            "      BatchNorm2d-16            [-1, 256, 8, 8]             512\n",
            "           Conv2d-17            [-1, 256, 8, 8]         589,824\n",
            "      BatchNorm2d-18            [-1, 256, 8, 8]             512\n",
            "           Conv2d-19            [-1, 256, 8, 8]          32,768\n",
            "      BatchNorm2d-20            [-1, 256, 8, 8]             512\n",
            "       BasicBlock-21            [-1, 256, 8, 8]               0\n",
            "           Conv2d-22            [-1, 512, 4, 4]       1,179,648\n",
            "      BatchNorm2d-23            [-1, 512, 4, 4]           1,024\n",
            "           Conv2d-24            [-1, 512, 4, 4]       2,359,296\n",
            "      BatchNorm2d-25            [-1, 512, 4, 4]           1,024\n",
            "           Conv2d-26            [-1, 512, 4, 4]         131,072\n",
            "      BatchNorm2d-27            [-1, 512, 4, 4]           1,024\n",
            "       BasicBlock-28            [-1, 512, 4, 4]               0\n",
            "           Linear-29                   [-1, 10]           5,130\n",
            "================================================================\n",
            "Total params: 4,903,242\n",
            "Trainable params: 4,903,242\n",
            "Non-trainable params: 0\n",
            "----------------------------------------------------------------\n",
            "Input size (MB): 0.01\n",
            "Forward/backward pass size (MB): 6.56\n",
            "Params size (MB): 18.70\n",
            "Estimated Total Size (MB): 25.28\n",
            "----------------------------------------------------------------\n"
          ]
        }
      ]
    },
    {
      "cell_type": "code",
      "source": [
        "trainDataLoader = torch.utils.data.DataLoader(trainingdata, batch_size=64, shuffle=True)\n",
        "testDataLoader = torch.utils.data.DataLoader(testdata, batch_size=64, shuffle=False)\n",
        "cross_entropy_loss = nn.CrossEntropyLoss() \n",
        "optimizer = torch.optim.Adam(net2.parameters(), lr=0.001)"
      ],
      "metadata": {
        "id": "x3yR4Nu0A-dn"
      },
      "execution_count": 53,
      "outputs": []
    },
    {
      "cell_type": "code",
      "source": [
        "train_loss_history, test_loss_history, test_accuracy_history = train_and_test_model(net2, \n",
        "                                                                                    cross_entropy_loss, \n",
        "                                                                                    trainDataLoader, \n",
        "                                                                                    testDataLoader, \n",
        "                                                                                    optimizer)"
      ],
      "metadata": {
        "colab": {
          "base_uri": "https://localhost:8080/"
        },
        "id": "9OA15qa4BCWC",
        "outputId": "1569416f-3358-44db-c300-1345c2929192"
      },
      "execution_count": 54,
      "outputs": [
        {
          "output_type": "stream",
          "name": "stdout",
          "text": [
            "Epoch 0, Train loss 1.2217603720667418, Test loss 0.8998531592879325, Test accuracy 0.6817\n",
            "Epoch 1, Train loss 0.7596984066240623, Test loss 0.6516416334802178, Test accuracy 0.7804\n",
            "Epoch 2, Train loss 0.5652555657545929, Test loss 0.5925542829902308, Test accuracy 0.7973\n",
            "Epoch 3, Train loss 0.4330736103913058, Test loss 0.5450374759306573, Test accuracy 0.8186\n",
            "Epoch 4, Train loss 0.31546119791086374, Test loss 0.5472259514840545, Test accuracy 0.8219\n",
            "Epoch 5, Train loss 0.21692293294517281, Test loss 0.5722317438406549, Test accuracy 0.8281\n",
            "Epoch 6, Train loss 0.14397068714241848, Test loss 0.6107318191581471, Test accuracy 0.8303\n",
            "Epoch 7, Train loss 0.10798181057014429, Test loss 0.7041372174669982, Test accuracy 0.8213\n",
            "Epoch 8, Train loss 0.07934092664424225, Test loss 0.7147525361958583, Test accuracy 0.8265\n",
            "Epoch 9, Train loss 0.0705437014264095, Test loss 0.7612765064095236, Test accuracy 0.8273\n",
            "Epoch 10, Train loss 0.054726776370988287, Test loss 0.7804402374917534, Test accuracy 0.8268\n",
            "Epoch 11, Train loss 0.05299117341202915, Test loss 0.8292699751390773, Test accuracy 0.8254\n",
            "Epoch 12, Train loss 0.050855773353718145, Test loss 0.7945132540289763, Test accuracy 0.8268\n",
            "Epoch 13, Train loss 0.042220076960411766, Test loss 0.9104673164855143, Test accuracy 0.821\n",
            "Epoch 14, Train loss 0.039921731834420146, Test loss 0.9013104813209005, Test accuracy 0.827\n",
            "Epoch 15, Train loss 0.037164003581783435, Test loss 0.9818965751843848, Test accuracy 0.8102\n",
            "Epoch 16, Train loss 0.0394290769036533, Test loss 0.9297378505491147, Test accuracy 0.8266\n",
            "Epoch 17, Train loss 0.02659193971036526, Test loss 0.925893149083587, Test accuracy 0.83\n",
            "Epoch 18, Train loss 0.03464873695081812, Test loss 0.9285507234418469, Test accuracy 0.8281\n",
            "Epoch 19, Train loss 0.03131555721865368, Test loss 0.909590335028946, Test accuracy 0.8293\n"
          ]
        }
      ]
    },
    {
      "cell_type": "code",
      "source": [
        "plot_result(train_loss_history, test_loss_history, 20)\n",
        "best_accuracy(test_accuracy_history)"
      ],
      "metadata": {
        "colab": {
          "base_uri": "https://localhost:8080/",
          "height": 297
        },
        "id": "3xexUR4tites",
        "outputId": "f465c099-3a07-483f-cc0d-a962e1da18f5"
      },
      "execution_count": 55,
      "outputs": [
        {
          "output_type": "stream",
          "name": "stdout",
          "text": [
            "Highest accuracy: 0.8303\n"
          ]
        },
        {
          "output_type": "display_data",
          "data": {
            "text/plain": [
              "<Figure size 432x288 with 1 Axes>"
            ],
            "image/png": "[encoded data removed]"
          },
          "metadata": {
            "needs_background": "light"
          }
        }
      ]
    },
    {
      "cell_type": "markdown",
      "source": [
        "###Option 2\n",
        "3 Residual Layers \\\n",
        "\n",
        "*  Layer 1: 32 channels, 5 residual blocks, kernel size = 3\n",
        "*  Layer 2: 64 channels, 7 residual blocks, kernel size = 3\n",
        "*  Layer 3: 128 channels, 14 residual blocks, kernel size = 3\n",
        "\n",
        "Total params: 4,671,146 \\\n",
        "Best Acc.: 86.22%"
      ],
      "metadata": {
        "id": "5WtlIc42q9c8"
      }
    },
    {
      "cell_type": "code",
      "source": [
        "class ResNet4Layer32(nn.Module):\n",
        "    def __init__(self, block, num_blocks, num_classes=10):\n",
        "        super(ResNet4Layer32, self).__init__()\n",
        "        self.in_planes = 32\n",
        "\n",
        "        self.conv1 = nn.Conv2d(3, 32, kernel_size=3,\n",
        "                               stride=1, padding=1, bias=False)\n",
        "        self.bn1 = nn.BatchNorm2d(32)\n",
        "        self.layer1 = self._make_layer(block, 32, num_blocks[0], stride=1)\n",
        "        self.layer2 = self._make_layer(block, 64, num_blocks[1], stride=2)\n",
        "        self.layer3 = self._make_layer(block, 128, num_blocks[2], stride=2)\n",
        "        self.linear = nn.Linear(512*block.expansion, num_classes)\n",
        "\n",
        "    def _make_layer(self, block, planes, num_blocks, stride):\n",
        "        strides = [stride] + [1]*(num_blocks-1)\n",
        "        layers = []\n",
        "        for stride in strides:\n",
        "            layers.append(block(self.in_planes, planes, stride))\n",
        "            self.in_planes = planes * block.expansion\n",
        "        return nn.Sequential(*layers)\n",
        "\n",
        "    def forward(self, x):\n",
        "        out = F.relu(self.bn1(self.conv1(x)))\n",
        "        out = self.layer1(out)\n",
        "        out = self.layer2(out)\n",
        "        out = self.layer3(out)\n",
        "        out = F.avg_pool2d(out, 4)\n",
        "        out = out.view(out.size(0), -1)\n",
        "        out = self.linear(out)\n",
        "        return out"
      ],
      "metadata": {
        "id": "kxDv3bQ7p2JI"
      },
      "execution_count": 15,
      "outputs": []
    },
    {
      "cell_type": "code",
      "source": [
        "net1 = ResNet4Layer32(BasicBlock, [5, 7, 14, 3])"
      ],
      "metadata": {
        "id": "gsjQbBtCqEHx"
      },
      "execution_count": 38,
      "outputs": []
    },
    {
      "cell_type": "code",
      "source": [
        "summary(net1, input_size=(3, 32, 32), device='cpu')"
      ],
      "metadata": {
        "colab": {
          "base_uri": "https://localhost:8080/"
        },
        "id": "xQcNcSkRqMyY",
        "outputId": "c1412ca5-e101-4818-b455-4b3cbd2ab062"
      },
      "execution_count": 39,
      "outputs": [
        {
          "output_type": "stream",
          "name": "stdout",
          "text": [
            "----------------------------------------------------------------\n",
            "        Layer (type)               Output Shape         Param #\n",
            "================================================================\n",
            "            Conv2d-1           [-1, 32, 32, 32]             864\n",
            "       BatchNorm2d-2           [-1, 32, 32, 32]              64\n",
            "            Conv2d-3           [-1, 32, 32, 32]           9,216\n",
            "       BatchNorm2d-4           [-1, 32, 32, 32]              64\n",
            "            Conv2d-5           [-1, 32, 32, 32]           9,216\n",
            "       BatchNorm2d-6           [-1, 32, 32, 32]              64\n",
            "        BasicBlock-7           [-1, 32, 32, 32]               0\n",
            "            Conv2d-8           [-1, 32, 32, 32]           9,216\n",
            "       BatchNorm2d-9           [-1, 32, 32, 32]              64\n",
            "           Conv2d-10           [-1, 32, 32, 32]           9,216\n",
            "      BatchNorm2d-11           [-1, 32, 32, 32]              64\n",
            "       BasicBlock-12           [-1, 32, 32, 32]               0\n",
            "           Conv2d-13           [-1, 32, 32, 32]           9,216\n",
            "      BatchNorm2d-14           [-1, 32, 32, 32]              64\n",
            "           Conv2d-15           [-1, 32, 32, 32]           9,216\n",
            "      BatchNorm2d-16           [-1, 32, 32, 32]              64\n",
            "       BasicBlock-17           [-1, 32, 32, 32]               0\n",
            "           Conv2d-18           [-1, 32, 32, 32]           9,216\n",
            "      BatchNorm2d-19           [-1, 32, 32, 32]              64\n",
            "           Conv2d-20           [-1, 32, 32, 32]           9,216\n",
            "      BatchNorm2d-21           [-1, 32, 32, 32]              64\n",
            "       BasicBlock-22           [-1, 32, 32, 32]               0\n",
            "           Conv2d-23           [-1, 32, 32, 32]           9,216\n",
            "      BatchNorm2d-24           [-1, 32, 32, 32]              64\n",
            "           Conv2d-25           [-1, 32, 32, 32]           9,216\n",
            "      BatchNorm2d-26           [-1, 32, 32, 32]              64\n",
            "       BasicBlock-27           [-1, 32, 32, 32]               0\n",
            "           Conv2d-28           [-1, 64, 16, 16]          18,432\n",
            "      BatchNorm2d-29           [-1, 64, 16, 16]             128\n",
            "           Conv2d-30           [-1, 64, 16, 16]          36,864\n",
            "      BatchNorm2d-31           [-1, 64, 16, 16]             128\n",
            "           Conv2d-32           [-1, 64, 16, 16]           2,048\n",
            "      BatchNorm2d-33           [-1, 64, 16, 16]             128\n",
            "       BasicBlock-34           [-1, 64, 16, 16]               0\n",
            "           Conv2d-35           [-1, 64, 16, 16]          36,864\n",
            "      BatchNorm2d-36           [-1, 64, 16, 16]             128\n",
            "           Conv2d-37           [-1, 64, 16, 16]          36,864\n",
            "      BatchNorm2d-38           [-1, 64, 16, 16]             128\n",
            "       BasicBlock-39           [-1, 64, 16, 16]               0\n",
            "           Conv2d-40           [-1, 64, 16, 16]          36,864\n",
            "      BatchNorm2d-41           [-1, 64, 16, 16]             128\n",
            "           Conv2d-42           [-1, 64, 16, 16]          36,864\n",
            "      BatchNorm2d-43           [-1, 64, 16, 16]             128\n",
            "       BasicBlock-44           [-1, 64, 16, 16]               0\n",
            "           Conv2d-45           [-1, 64, 16, 16]          36,864\n",
            "      BatchNorm2d-46           [-1, 64, 16, 16]             128\n",
            "           Conv2d-47           [-1, 64, 16, 16]          36,864\n",
            "      BatchNorm2d-48           [-1, 64, 16, 16]             128\n",
            "       BasicBlock-49           [-1, 64, 16, 16]               0\n",
            "           Conv2d-50           [-1, 64, 16, 16]          36,864\n",
            "      BatchNorm2d-51           [-1, 64, 16, 16]             128\n",
            "           Conv2d-52           [-1, 64, 16, 16]          36,864\n",
            "      BatchNorm2d-53           [-1, 64, 16, 16]             128\n",
            "       BasicBlock-54           [-1, 64, 16, 16]               0\n",
            "           Conv2d-55           [-1, 64, 16, 16]          36,864\n",
            "      BatchNorm2d-56           [-1, 64, 16, 16]             128\n",
            "           Conv2d-57           [-1, 64, 16, 16]          36,864\n",
            "      BatchNorm2d-58           [-1, 64, 16, 16]             128\n",
            "       BasicBlock-59           [-1, 64, 16, 16]               0\n",
            "           Conv2d-60           [-1, 64, 16, 16]          36,864\n",
            "      BatchNorm2d-61           [-1, 64, 16, 16]             128\n",
            "           Conv2d-62           [-1, 64, 16, 16]          36,864\n",
            "      BatchNorm2d-63           [-1, 64, 16, 16]             128\n",
            "       BasicBlock-64           [-1, 64, 16, 16]               0\n",
            "           Conv2d-65            [-1, 128, 8, 8]          73,728\n",
            "      BatchNorm2d-66            [-1, 128, 8, 8]             256\n",
            "           Conv2d-67            [-1, 128, 8, 8]         147,456\n",
            "      BatchNorm2d-68            [-1, 128, 8, 8]             256\n",
            "           Conv2d-69            [-1, 128, 8, 8]           8,192\n",
            "      BatchNorm2d-70            [-1, 128, 8, 8]             256\n",
            "       BasicBlock-71            [-1, 128, 8, 8]               0\n",
            "           Conv2d-72            [-1, 128, 8, 8]         147,456\n",
            "      BatchNorm2d-73            [-1, 128, 8, 8]             256\n",
            "           Conv2d-74            [-1, 128, 8, 8]         147,456\n",
            "      BatchNorm2d-75            [-1, 128, 8, 8]             256\n",
            "       BasicBlock-76            [-1, 128, 8, 8]               0\n",
            "           Conv2d-77            [-1, 128, 8, 8]         147,456\n",
            "      BatchNorm2d-78            [-1, 128, 8, 8]             256\n",
            "           Conv2d-79            [-1, 128, 8, 8]         147,456\n",
            "      BatchNorm2d-80            [-1, 128, 8, 8]             256\n",
            "       BasicBlock-81            [-1, 128, 8, 8]               0\n",
            "           Conv2d-82            [-1, 128, 8, 8]         147,456\n",
            "      BatchNorm2d-83            [-1, 128, 8, 8]             256\n",
            "           Conv2d-84            [-1, 128, 8, 8]         147,456\n",
            "      BatchNorm2d-85            [-1, 128, 8, 8]             256\n",
            "       BasicBlock-86            [-1, 128, 8, 8]               0\n",
            "           Conv2d-87            [-1, 128, 8, 8]         147,456\n",
            "      BatchNorm2d-88            [-1, 128, 8, 8]             256\n",
            "           Conv2d-89            [-1, 128, 8, 8]         147,456\n",
            "      BatchNorm2d-90            [-1, 128, 8, 8]             256\n",
            "       BasicBlock-91            [-1, 128, 8, 8]               0\n",
            "           Conv2d-92            [-1, 128, 8, 8]         147,456\n",
            "      BatchNorm2d-93            [-1, 128, 8, 8]             256\n",
            "           Conv2d-94            [-1, 128, 8, 8]         147,456\n",
            "      BatchNorm2d-95            [-1, 128, 8, 8]             256\n",
            "       BasicBlock-96            [-1, 128, 8, 8]               0\n",
            "           Conv2d-97            [-1, 128, 8, 8]         147,456\n",
            "      BatchNorm2d-98            [-1, 128, 8, 8]             256\n",
            "           Conv2d-99            [-1, 128, 8, 8]         147,456\n",
            "     BatchNorm2d-100            [-1, 128, 8, 8]             256\n",
            "      BasicBlock-101            [-1, 128, 8, 8]               0\n",
            "          Conv2d-102            [-1, 128, 8, 8]         147,456\n",
            "     BatchNorm2d-103            [-1, 128, 8, 8]             256\n",
            "          Conv2d-104            [-1, 128, 8, 8]         147,456\n",
            "     BatchNorm2d-105            [-1, 128, 8, 8]             256\n",
            "      BasicBlock-106            [-1, 128, 8, 8]               0\n",
            "          Conv2d-107            [-1, 128, 8, 8]         147,456\n",
            "     BatchNorm2d-108            [-1, 128, 8, 8]             256\n",
            "          Conv2d-109            [-1, 128, 8, 8]         147,456\n",
            "     BatchNorm2d-110            [-1, 128, 8, 8]             256\n",
            "      BasicBlock-111            [-1, 128, 8, 8]               0\n",
            "          Conv2d-112            [-1, 128, 8, 8]         147,456\n",
            "     BatchNorm2d-113            [-1, 128, 8, 8]             256\n",
            "          Conv2d-114            [-1, 128, 8, 8]         147,456\n",
            "     BatchNorm2d-115            [-1, 128, 8, 8]             256\n",
            "      BasicBlock-116            [-1, 128, 8, 8]               0\n",
            "          Conv2d-117            [-1, 128, 8, 8]         147,456\n",
            "     BatchNorm2d-118            [-1, 128, 8, 8]             256\n",
            "          Conv2d-119            [-1, 128, 8, 8]         147,456\n",
            "     BatchNorm2d-120            [-1, 128, 8, 8]             256\n",
            "      BasicBlock-121            [-1, 128, 8, 8]               0\n",
            "          Conv2d-122            [-1, 128, 8, 8]         147,456\n",
            "     BatchNorm2d-123            [-1, 128, 8, 8]             256\n",
            "          Conv2d-124            [-1, 128, 8, 8]         147,456\n",
            "     BatchNorm2d-125            [-1, 128, 8, 8]             256\n",
            "      BasicBlock-126            [-1, 128, 8, 8]               0\n",
            "          Conv2d-127            [-1, 128, 8, 8]         147,456\n",
            "     BatchNorm2d-128            [-1, 128, 8, 8]             256\n",
            "          Conv2d-129            [-1, 128, 8, 8]         147,456\n",
            "     BatchNorm2d-130            [-1, 128, 8, 8]             256\n",
            "      BasicBlock-131            [-1, 128, 8, 8]               0\n",
            "          Conv2d-132            [-1, 128, 8, 8]         147,456\n",
            "     BatchNorm2d-133            [-1, 128, 8, 8]             256\n",
            "          Conv2d-134            [-1, 128, 8, 8]         147,456\n",
            "     BatchNorm2d-135            [-1, 128, 8, 8]             256\n",
            "      BasicBlock-136            [-1, 128, 8, 8]               0\n",
            "          Linear-137                   [-1, 10]           5,130\n",
            "================================================================\n",
            "Total params: 4,671,146\n",
            "Trainable params: 4,671,146\n",
            "Non-trainable params: 0\n",
            "----------------------------------------------------------------\n",
            "Input size (MB): 0.01\n",
            "Forward/backward pass size (MB): 15.88\n",
            "Params size (MB): 17.82\n",
            "Estimated Total Size (MB): 33.71\n",
            "----------------------------------------------------------------\n"
          ]
        }
      ]
    },
    {
      "cell_type": "code",
      "source": [
        "trainDataLoader = torch.utils.data.DataLoader(trainingdata, batch_size=64, shuffle=True)\n",
        "testDataLoader = torch.utils.data.DataLoader(testdata, batch_size=64, shuffle=False)\n",
        "cross_entropy_loss = nn.CrossEntropyLoss() \n",
        "optimizer = torch.optim.Adam(net1.parameters(), lr=0.001)"
      ],
      "metadata": {
        "id": "bmcH5C6v8FfD"
      },
      "execution_count": 40,
      "outputs": []
    },
    {
      "cell_type": "code",
      "source": [
        "train_loss_history, test_loss_history, test_accuracy_history = train_and_test_model(net1, \n",
        "                                                                                    cross_entropy_loss, \n",
        "                                                                                    trainDataLoader, \n",
        "                                                                                    testDataLoader, \n",
        "                                                                                    optimizer)"
      ],
      "metadata": {
        "colab": {
          "base_uri": "https://localhost:8080/"
        },
        "id": "ciJEqcJT8LrR",
        "outputId": "0742fe0f-e1f4-48fc-a715-788ad25ecf97"
      },
      "execution_count": 41,
      "outputs": [
        {
          "output_type": "stream",
          "name": "stdout",
          "text": [
            "Epoch 0, Train loss 1.5789635028223248, Test loss 1.2331618659055916, Test accuracy 0.5604\n",
            "Epoch 1, Train loss 1.001835340810249, Test loss 0.8407022694873202, Test accuracy 0.7152\n",
            "Epoch 2, Train loss 0.7598450535246174, Test loss 0.7241016227728242, Test accuracy 0.7619\n",
            "Epoch 3, Train loss 0.6014593034182363, Test loss 0.6340764102282798, Test accuracy 0.7856\n",
            "Epoch 4, Train loss 0.5001547931862609, Test loss 0.5569864721245067, Test accuracy 0.8145\n",
            "Epoch 5, Train loss 0.41659181725109934, Test loss 0.5050573781797081, Test accuracy 0.8341\n",
            "Epoch 6, Train loss 0.3437875116915654, Test loss 0.5283913927473081, Test accuracy 0.8248\n",
            "Epoch 7, Train loss 0.2822689439939416, Test loss 0.5111040609657385, Test accuracy 0.8405\n",
            "Epoch 8, Train loss 0.22777996548568197, Test loss 0.5081362127308633, Test accuracy 0.8464\n",
            "Epoch 9, Train loss 0.1797760516986289, Test loss 0.5377909389271098, Test accuracy 0.8465\n",
            "Epoch 10, Train loss 0.14632707571282105, Test loss 0.5329625057946344, Test accuracy 0.8539\n",
            "Epoch 11, Train loss 0.11565408890928759, Test loss 0.5803855691745783, Test accuracy 0.848\n",
            "Epoch 12, Train loss 0.09861746742008992, Test loss 0.6380112623902643, Test accuracy 0.8469\n",
            "Epoch 13, Train loss 0.08192270877651985, Test loss 0.5692953445539353, Test accuracy 0.8613\n",
            "Epoch 14, Train loss 0.07296252906557096, Test loss 0.58107238504917, Test accuracy 0.8565\n",
            "Epoch 15, Train loss 0.06318904059853338, Test loss 0.6132967865960613, Test accuracy 0.8568\n",
            "Epoch 16, Train loss 0.06105611840461898, Test loss 0.7276784095225061, Test accuracy 0.8534\n",
            "Epoch 17, Train loss 0.05623264344441264, Test loss 0.6269401618439681, Test accuracy 0.8538\n",
            "Epoch 18, Train loss 0.04581336946273699, Test loss 0.6744350734979484, Test accuracy 0.8622\n",
            "Epoch 19, Train loss 0.04382090368050584, Test loss 0.6823961512203429, Test accuracy 0.8568\n"
          ]
        }
      ]
    },
    {
      "cell_type": "code",
      "source": [
        "plot_result(train_loss_history, test_loss_history, 20)\n",
        "best_accuracy(test_accuracy_history)"
      ],
      "metadata": {
        "colab": {
          "base_uri": "https://localhost:8080/",
          "height": 297
        },
        "id": "ldXhU_96gt63",
        "outputId": "36269cc7-6315-475a-d760-1b2c00a39b65"
      },
      "execution_count": 50,
      "outputs": [
        {
          "output_type": "stream",
          "name": "stdout",
          "text": [
            "Highest accuracy: 0.8622\n"
          ]
        },
        {
          "output_type": "display_data",
          "data": {
            "text/plain": [
              "<Figure size 432x288 with 1 Axes>"
            ],
            "image/png": "[encoded data removed]"
          },
          "metadata": {
            "needs_background": "light"
          }
        }
      ]
    },
    {
      "cell_type": "markdown",
      "source": [
        "###Option 3\n",
        "3 Residual Layers \\\n",
        "\n",
        "*  Layer 1: 64 channels, 2 residual blocks, kernel size = 5\n",
        "*  Layer 2: 128 channels, 2 residual blocks, kernel size = 5\n",
        "*  Layer 3: 256 channels, 1 residual blocks, kernel size = 5\n",
        "\n",
        "Total params: 4,357,194 \\\n",
        "Best Acc.: 87.19%"
      ],
      "metadata": {
        "id": "asmwuovy6d5B"
      }
    },
    {
      "cell_type": "code",
      "source": [
        "# Modified BasicBlock to kernel_size=5, padding=2\n",
        "class BasicBlockK5(nn.Module):\n",
        "    expansion = 1\n",
        "\n",
        "    def __init__(self, in_planes, planes, stride=1):\n",
        "        super(BasicBlockK5, self).__init__()\n",
        "        self.conv1 = nn.Conv2d(\n",
        "            in_planes, planes, kernel_size=5, stride=stride, padding=2, bias=False)\n",
        "        self.bn1 = nn.BatchNorm2d(planes)\n",
        "        self.conv2 = nn.Conv2d(planes, planes, kernel_size=5,\n",
        "                               stride=1, padding=2, bias=False)\n",
        "        self.bn2 = nn.BatchNorm2d(planes)\n",
        "\n",
        "        self.shortcut = nn.Sequential()\n",
        "        if stride != 1 or in_planes != self.expansion*planes:\n",
        "            self.shortcut = nn.Sequential(\n",
        "                nn.Conv2d(in_planes, self.expansion*planes,\n",
        "                          kernel_size=1, stride=stride, bias=False),\n",
        "                nn.BatchNorm2d(self.expansion*planes)\n",
        "            )\n",
        "\n",
        "    def forward(self, x):\n",
        "        out = F.relu(self.bn1(self.conv1(x)))\n",
        "        out = self.bn2(self.conv2(out))\n",
        "        out += self.shortcut(x)\n",
        "        out = F.relu(out)\n",
        "        return out"
      ],
      "metadata": {
        "id": "v9uN5T5Nib8h"
      },
      "execution_count": 16,
      "outputs": []
    },
    {
      "cell_type": "code",
      "source": [
        "# Modified ResNet to have 3 layers instead of 4 layers\n",
        "class ResNet3Layer(nn.Module):\n",
        "    def __init__(self, block, num_blocks, num_classes=10):\n",
        "        super(ResNet3Layer, self).__init__()\n",
        "        self.in_planes = 64\n",
        "\n",
        "        self.conv1 = nn.Conv2d(3, 64, kernel_size=3,\n",
        "                               stride=1, padding=1, bias=False)\n",
        "        self.bn1 = nn.BatchNorm2d(64)\n",
        "        self.layer1 = self._make_layer(block, 64, num_blocks[0], stride=1)\n",
        "        self.layer2 = self._make_layer(block, 128, num_blocks[1], stride=2)\n",
        "        self.layer3 = self._make_layer(block, 256, num_blocks[2], stride=2)\n",
        "        self.linear = nn.Linear(1024*block.expansion, num_classes)\n",
        "\n",
        "    def _make_layer(self, block, planes, num_blocks, stride):\n",
        "        strides = [stride] + [1]*(num_blocks-1)\n",
        "        layers = []\n",
        "        for stride in strides:\n",
        "            layers.append(block(self.in_planes, planes, stride))\n",
        "            self.in_planes = planes * block.expansion\n",
        "        return nn.Sequential(*layers)\n",
        "\n",
        "    def forward(self, x):\n",
        "        out = F.relu(self.bn1(self.conv1(x)))\n",
        "        out = self.layer1(out)\n",
        "        out = self.layer2(out)\n",
        "        out = self.layer3(out)\n",
        "        out = F.avg_pool2d(out, 4)\n",
        "        out = out.view(out.size(0), -1)\n",
        "        out = self.linear(out)\n",
        "        return out"
      ],
      "metadata": {
        "id": "_eOBTNrK6xww"
      },
      "execution_count": 17,
      "outputs": []
    },
    {
      "cell_type": "code",
      "source": [
        "net3 = ResNet3Layer(BasicBlockK5, [2, 2, 1])"
      ],
      "metadata": {
        "id": "cu8c5HY6gMAx"
      },
      "execution_count": 58,
      "outputs": []
    },
    {
      "cell_type": "code",
      "source": [
        "summary(net3, input_size=(3, 32, 32), device='cpu')"
      ],
      "metadata": {
        "colab": {
          "base_uri": "https://localhost:8080/"
        },
        "id": "bPYWpi6xgYUt",
        "outputId": "d5d02283-4ea6-40b1-c68c-a3952e4d35fe"
      },
      "execution_count": 59,
      "outputs": [
        {
          "output_type": "stream",
          "name": "stdout",
          "text": [
            "----------------------------------------------------------------\n",
            "        Layer (type)               Output Shape         Param #\n",
            "================================================================\n",
            "            Conv2d-1           [-1, 64, 32, 32]           1,728\n",
            "       BatchNorm2d-2           [-1, 64, 32, 32]             128\n",
            "            Conv2d-3           [-1, 64, 32, 32]         102,400\n",
            "       BatchNorm2d-4           [-1, 64, 32, 32]             128\n",
            "            Conv2d-5           [-1, 64, 32, 32]         102,400\n",
            "       BatchNorm2d-6           [-1, 64, 32, 32]             128\n",
            "      BasicBlockK5-7           [-1, 64, 32, 32]               0\n",
            "            Conv2d-8           [-1, 64, 32, 32]         102,400\n",
            "       BatchNorm2d-9           [-1, 64, 32, 32]             128\n",
            "           Conv2d-10           [-1, 64, 32, 32]         102,400\n",
            "      BatchNorm2d-11           [-1, 64, 32, 32]             128\n",
            "     BasicBlockK5-12           [-1, 64, 32, 32]               0\n",
            "           Conv2d-13          [-1, 128, 16, 16]         204,800\n",
            "      BatchNorm2d-14          [-1, 128, 16, 16]             256\n",
            "           Conv2d-15          [-1, 128, 16, 16]         409,600\n",
            "      BatchNorm2d-16          [-1, 128, 16, 16]             256\n",
            "           Conv2d-17          [-1, 128, 16, 16]           8,192\n",
            "      BatchNorm2d-18          [-1, 128, 16, 16]             256\n",
            "     BasicBlockK5-19          [-1, 128, 16, 16]               0\n",
            "           Conv2d-20          [-1, 128, 16, 16]         409,600\n",
            "      BatchNorm2d-21          [-1, 128, 16, 16]             256\n",
            "           Conv2d-22          [-1, 128, 16, 16]         409,600\n",
            "      BatchNorm2d-23          [-1, 128, 16, 16]             256\n",
            "     BasicBlockK5-24          [-1, 128, 16, 16]               0\n",
            "           Conv2d-25            [-1, 256, 8, 8]         819,200\n",
            "      BatchNorm2d-26            [-1, 256, 8, 8]             512\n",
            "           Conv2d-27            [-1, 256, 8, 8]       1,638,400\n",
            "      BatchNorm2d-28            [-1, 256, 8, 8]             512\n",
            "           Conv2d-29            [-1, 256, 8, 8]          32,768\n",
            "      BatchNorm2d-30            [-1, 256, 8, 8]             512\n",
            "     BasicBlockK5-31            [-1, 256, 8, 8]               0\n",
            "           Linear-32                   [-1, 10]          10,250\n",
            "================================================================\n",
            "Total params: 4,357,194\n",
            "Trainable params: 4,357,194\n",
            "Non-trainable params: 0\n",
            "----------------------------------------------------------------\n",
            "Input size (MB): 0.01\n",
            "Forward/backward pass size (MB): 9.88\n",
            "Params size (MB): 16.62\n",
            "Estimated Total Size (MB): 26.51\n",
            "----------------------------------------------------------------\n"
          ]
        }
      ]
    },
    {
      "cell_type": "code",
      "source": [
        "trainDataLoader = torch.utils.data.DataLoader(trainingdata, batch_size=64, shuffle=True)\n",
        "testDataLoader = torch.utils.data.DataLoader(testdata, batch_size=64, shuffle=False)\n",
        "cross_entropy_loss = nn.CrossEntropyLoss() \n",
        "optimizer = torch.optim.Adam(net3.parameters(), lr=0.001)"
      ],
      "metadata": {
        "id": "KJDeqd6RHSlG"
      },
      "execution_count": 60,
      "outputs": []
    },
    {
      "cell_type": "code",
      "source": [
        "train_loss_history, test_loss_history, test_accuracy_history = train_and_test_model(net3, \n",
        "                                                                                    cross_entropy_loss, \n",
        "                                                                                    trainDataLoader, \n",
        "                                                                                    testDataLoader, \n",
        "                                                                                    optimizer)"
      ],
      "metadata": {
        "colab": {
          "base_uri": "https://localhost:8080/"
        },
        "id": "GHCSBvFwHVZQ",
        "outputId": "85bed16b-9b52-485e-9359-71498d59b189"
      },
      "execution_count": 61,
      "outputs": [
        {
          "output_type": "stream",
          "name": "stdout",
          "text": [
            "Epoch 0, Train loss 1.306595427605807, Test loss 0.9410743918388512, Test accuracy 0.6695\n",
            "Epoch 1, Train loss 0.8020386247302566, Test loss 0.7081785765802784, Test accuracy 0.7543\n",
            "Epoch 2, Train loss 0.606662914080693, Test loss 0.6097676541395248, Test accuracy 0.7984\n",
            "Epoch 3, Train loss 0.48704652640673207, Test loss 0.5570317113855082, Test accuracy 0.8106\n",
            "Epoch 4, Train loss 0.39728381711503735, Test loss 0.49592233975981453, Test accuracy 0.833\n",
            "Epoch 5, Train loss 0.31382204000564184, Test loss 0.4513212300979408, Test accuracy 0.8533\n",
            "Epoch 6, Train loss 0.24432507783765225, Test loss 0.4532086159203463, Test accuracy 0.8547\n",
            "Epoch 7, Train loss 0.17841566409058202, Test loss 0.47305429048219305, Test accuracy 0.8544\n",
            "Epoch 8, Train loss 0.12876162910357575, Test loss 0.5322155577551787, Test accuracy 0.8517\n",
            "Epoch 9, Train loss 0.09148882646732928, Test loss 0.5509313062592677, Test accuracy 0.8519\n",
            "Epoch 10, Train loss 0.07250696323428522, Test loss 0.5790079998172772, Test accuracy 0.8558\n",
            "Epoch 11, Train loss 0.0591727520221287, Test loss 0.5676112880182874, Test accuracy 0.8606\n",
            "Epoch 12, Train loss 0.04945487189663412, Test loss 0.6533339899626507, Test accuracy 0.847\n",
            "Epoch 13, Train loss 0.048337059629940525, Test loss 0.6160218239210213, Test accuracy 0.8606\n",
            "Epoch 14, Train loss 0.03853594581477458, Test loss 0.6412972117875032, Test accuracy 0.8631\n",
            "Epoch 15, Train loss 0.03316145363952155, Test loss 0.667855034493337, Test accuracy 0.8627\n",
            "Epoch 16, Train loss 0.03565656650676559, Test loss 0.7727094453041721, Test accuracy 0.8467\n",
            "Epoch 17, Train loss 0.030384708975847868, Test loss 0.6736676303824042, Test accuracy 0.867\n",
            "Epoch 18, Train loss 0.028549390078875903, Test loss 0.6854830427439349, Test accuracy 0.8638\n",
            "Epoch 19, Train loss 0.029882701408273055, Test loss 0.6380252752714096, Test accuracy 0.8719\n"
          ]
        }
      ]
    },
    {
      "cell_type": "code",
      "source": [
        "plot_result(train_loss_history, test_loss_history, 20)\n",
        "best_accuracy(test_accuracy_history)"
      ],
      "metadata": {
        "colab": {
          "base_uri": "https://localhost:8080/",
          "height": 297
        },
        "id": "yl2zKtwWiwsI",
        "outputId": "81514218-f1bd-4577-b814-a7c26a05c56e"
      },
      "execution_count": 62,
      "outputs": [
        {
          "output_type": "stream",
          "name": "stdout",
          "text": [
            "Highest accuracy: 0.8719\n"
          ]
        },
        {
          "output_type": "display_data",
          "data": {
            "text/plain": [
              "<Figure size 432x288 with 1 Axes>"
            ],
            "image/png": "[encoded data removed]"
          },
          "metadata": {
            "needs_background": "light"
          }
        }
      ]
    },
    {
      "cell_type": "markdown",
      "source": [
        "###Option 4\n",
        "3 Residual Layers \\\n",
        "\n",
        "*  Layer 1: 64 channels, 3 residual blocks, kernel size = 3\n",
        "*  Layer 2: 128 channels, 4 residual blocks, kernel size = 3\n",
        "*  Layer 3: 256 channels, 3 residual blocks, kernel size = 3\n",
        "\n",
        "Total params: 4,630,858 \\\n",
        "Best Acc.: 85.49%"
      ],
      "metadata": {
        "id": "71u5s6_2kcNJ"
      }
    },
    {
      "cell_type": "code",
      "source": [
        "net4 = ResNet3Layer(BasicBlock, [3, 4, 3])"
      ],
      "metadata": {
        "id": "_gX_ieXMktxn"
      },
      "execution_count": 18,
      "outputs": []
    },
    {
      "cell_type": "code",
      "source": [
        "summary(net4, input_size=(3, 32, 32), device='cpu')"
      ],
      "metadata": {
        "colab": {
          "base_uri": "https://localhost:8080/"
        },
        "id": "q1xBNTOTk0lc",
        "outputId": "eb2bf314-9807-409d-b618-c462be892513"
      },
      "execution_count": 19,
      "outputs": [
        {
          "output_type": "stream",
          "name": "stdout",
          "text": [
            "----------------------------------------------------------------\n",
            "        Layer (type)               Output Shape         Param #\n",
            "================================================================\n",
            "            Conv2d-1           [-1, 64, 32, 32]           1,728\n",
            "       BatchNorm2d-2           [-1, 64, 32, 32]             128\n",
            "            Conv2d-3           [-1, 64, 32, 32]          36,864\n",
            "       BatchNorm2d-4           [-1, 64, 32, 32]             128\n",
            "            Conv2d-5           [-1, 64, 32, 32]          36,864\n",
            "       BatchNorm2d-6           [-1, 64, 32, 32]             128\n",
            "        BasicBlock-7           [-1, 64, 32, 32]               0\n",
            "            Conv2d-8           [-1, 64, 32, 32]          36,864\n",
            "       BatchNorm2d-9           [-1, 64, 32, 32]             128\n",
            "           Conv2d-10           [-1, 64, 32, 32]          36,864\n",
            "      BatchNorm2d-11           [-1, 64, 32, 32]             128\n",
            "       BasicBlock-12           [-1, 64, 32, 32]               0\n",
            "           Conv2d-13           [-1, 64, 32, 32]          36,864\n",
            "      BatchNorm2d-14           [-1, 64, 32, 32]             128\n",
            "           Conv2d-15           [-1, 64, 32, 32]          36,864\n",
            "      BatchNorm2d-16           [-1, 64, 32, 32]             128\n",
            "       BasicBlock-17           [-1, 64, 32, 32]               0\n",
            "           Conv2d-18          [-1, 128, 16, 16]          73,728\n",
            "      BatchNorm2d-19          [-1, 128, 16, 16]             256\n",
            "           Conv2d-20          [-1, 128, 16, 16]         147,456\n",
            "      BatchNorm2d-21          [-1, 128, 16, 16]             256\n",
            "           Conv2d-22          [-1, 128, 16, 16]           8,192\n",
            "      BatchNorm2d-23          [-1, 128, 16, 16]             256\n",
            "       BasicBlock-24          [-1, 128, 16, 16]               0\n",
            "           Conv2d-25          [-1, 128, 16, 16]         147,456\n",
            "      BatchNorm2d-26          [-1, 128, 16, 16]             256\n",
            "           Conv2d-27          [-1, 128, 16, 16]         147,456\n",
            "      BatchNorm2d-28          [-1, 128, 16, 16]             256\n",
            "       BasicBlock-29          [-1, 128, 16, 16]               0\n",
            "           Conv2d-30          [-1, 128, 16, 16]         147,456\n",
            "      BatchNorm2d-31          [-1, 128, 16, 16]             256\n",
            "           Conv2d-32          [-1, 128, 16, 16]         147,456\n",
            "      BatchNorm2d-33          [-1, 128, 16, 16]             256\n",
            "       BasicBlock-34          [-1, 128, 16, 16]               0\n",
            "           Conv2d-35          [-1, 128, 16, 16]         147,456\n",
            "      BatchNorm2d-36          [-1, 128, 16, 16]             256\n",
            "           Conv2d-37          [-1, 128, 16, 16]         147,456\n",
            "      BatchNorm2d-38          [-1, 128, 16, 16]             256\n",
            "       BasicBlock-39          [-1, 128, 16, 16]               0\n",
            "           Conv2d-40            [-1, 256, 8, 8]         294,912\n",
            "      BatchNorm2d-41            [-1, 256, 8, 8]             512\n",
            "           Conv2d-42            [-1, 256, 8, 8]         589,824\n",
            "      BatchNorm2d-43            [-1, 256, 8, 8]             512\n",
            "           Conv2d-44            [-1, 256, 8, 8]          32,768\n",
            "      BatchNorm2d-45            [-1, 256, 8, 8]             512\n",
            "       BasicBlock-46            [-1, 256, 8, 8]               0\n",
            "           Conv2d-47            [-1, 256, 8, 8]         589,824\n",
            "      BatchNorm2d-48            [-1, 256, 8, 8]             512\n",
            "           Conv2d-49            [-1, 256, 8, 8]         589,824\n",
            "      BatchNorm2d-50            [-1, 256, 8, 8]             512\n",
            "       BasicBlock-51            [-1, 256, 8, 8]               0\n",
            "           Conv2d-52            [-1, 256, 8, 8]         589,824\n",
            "      BatchNorm2d-53            [-1, 256, 8, 8]             512\n",
            "           Conv2d-54            [-1, 256, 8, 8]         589,824\n",
            "      BatchNorm2d-55            [-1, 256, 8, 8]             512\n",
            "       BasicBlock-56            [-1, 256, 8, 8]               0\n",
            "           Linear-57                   [-1, 10]          10,250\n",
            "================================================================\n",
            "Total params: 4,630,858\n",
            "Trainable params: 4,630,858\n",
            "Non-trainable params: 0\n",
            "----------------------------------------------------------------\n",
            "Input size (MB): 0.01\n",
            "Forward/backward pass size (MB): 16.13\n",
            "Params size (MB): 17.67\n",
            "Estimated Total Size (MB): 33.80\n",
            "----------------------------------------------------------------\n"
          ]
        }
      ]
    },
    {
      "cell_type": "code",
      "source": [
        "trainDataLoader = torch.utils.data.DataLoader(trainingdata, batch_size=64, shuffle=True)\n",
        "testDataLoader = torch.utils.data.DataLoader(testdata, batch_size=64, shuffle=False)\n",
        "cross_entropy_loss = nn.CrossEntropyLoss() \n",
        "optimizer = torch.optim.Adam(net4.parameters(), lr=0.002)"
      ],
      "metadata": {
        "id": "_tVPAKHGNCne"
      },
      "execution_count": 20,
      "outputs": []
    },
    {
      "cell_type": "code",
      "source": [
        "train_loss_history, test_loss_history, test_accuracy_history = train_and_test_model(net4, \n",
        "                                                                                    cross_entropy_loss, \n",
        "                                                                                    trainDataLoader, \n",
        "                                                                                    testDataLoader, \n",
        "                                                                                    optimizer)"
      ],
      "metadata": {
        "colab": {
          "base_uri": "https://localhost:8080/"
        },
        "id": "TYu9x938NGeF",
        "outputId": "b892555b-c7b5-41ab-d9c6-81d1d88f778c"
      },
      "execution_count": 21,
      "outputs": [
        {
          "output_type": "stream",
          "name": "stdout",
          "text": [
            "Epoch 0, Train loss 1.4262277130275736, Test loss 1.0362937495966626, Test accuracy 0.6334\n",
            "Epoch 1, Train loss 0.8701868013805135, Test loss 0.7493173443967369, Test accuracy 0.7419\n",
            "Epoch 2, Train loss 0.6336570094384806, Test loss 0.678491479082472, Test accuracy 0.7672\n",
            "Epoch 3, Train loss 0.49053257084487345, Test loss 0.5607086594697017, Test accuracy 0.8155\n",
            "Epoch 4, Train loss 0.3830929309930033, Test loss 0.4877913029520375, Test accuracy 0.8415\n",
            "Epoch 5, Train loss 0.2861999039207121, Test loss 0.48614588019194876, Test accuracy 0.8466\n",
            "Epoch 6, Train loss 0.20763215443114644, Test loss 0.5092119607765964, Test accuracy 0.8508\n",
            "Epoch 7, Train loss 0.13909016388094486, Test loss 0.5433637751325681, Test accuracy 0.8519\n",
            "Epoch 8, Train loss 0.10725820294755233, Test loss 0.605370361524023, Test accuracy 0.844\n",
            "Epoch 9, Train loss 0.07945458287500617, Test loss 0.6399989602672067, Test accuracy 0.8473\n",
            "Epoch 10, Train loss 0.06469304883874039, Test loss 0.6837016666770741, Test accuracy 0.8471\n",
            "Epoch 11, Train loss 0.05749612367120059, Test loss 0.7064226576287276, Test accuracy 0.8442\n",
            "Epoch 12, Train loss 0.05381848458977788, Test loss 0.6981562957832008, Test accuracy 0.8549\n",
            "Epoch 13, Train loss 0.051526889316630464, Test loss 0.7309189696031012, Test accuracy 0.8464\n",
            "Epoch 14, Train loss 0.041639338629921696, Test loss 0.7409419209524325, Test accuracy 0.8543\n",
            "Epoch 15, Train loss 0.03759298620124311, Test loss 0.739153959853634, Test accuracy 0.8504\n",
            "Epoch 16, Train loss 0.042652240333705904, Test loss 0.7859968115949327, Test accuracy 0.8501\n",
            "Epoch 17, Train loss 0.032360042449455506, Test loss 0.8045791467283941, Test accuracy 0.8525\n",
            "Epoch 18, Train loss 0.03191274037951475, Test loss 0.8608426766315843, Test accuracy 0.8415\n",
            "Epoch 19, Train loss 0.033028615200902514, Test loss 0.8179852905546784, Test accuracy 0.8511\n"
          ]
        }
      ]
    },
    {
      "cell_type": "code",
      "source": [
        "plot_result(train_loss_history, test_loss_history, 20)\n",
        "plot_accuracy(test_accuracy_history, 20)\n",
        "best_accuracy(test_accuracy_history)"
      ],
      "metadata": {
        "colab": {
          "base_uri": "https://localhost:8080/",
          "height": 559
        },
        "id": "kkT2AlLhiy6s",
        "outputId": "f5fd6631-d517-4381-90f8-106f657381f9"
      },
      "execution_count": 25,
      "outputs": [
        {
          "output_type": "stream",
          "name": "stdout",
          "text": [
            "Highest accuracy: 0.8549\n"
          ]
        },
        {
          "output_type": "display_data",
          "data": {
            "text/plain": [
              "<Figure size 432x288 with 1 Axes>"
            ],
            "image/png": "[encoded data removed]"
          },
          "metadata": {
            "needs_background": "light"
          }
        },
        {
          "output_type": "display_data",
          "data": {
            "text/plain": [
              "<Figure size 432x288 with 1 Axes>"
            ],
            "image/png": "[encoded data removed]"
          },
          "metadata": {
            "needs_background": "light"
          }
        }
      ]
    },
    {
      "cell_type": "markdown",
      "source": [
        "###Option 5\n",
        "3 Residual Layers \\\n",
        "\n",
        "*  Layer 1: 128 channels, 1 residual blocks, kernel size = 3\n",
        "*  Layer 2: 256 channels, 1 residual blocks, kernel size = 3\n",
        "*  Layer 3: 512 channels, 1 residual blocks, kernel size = 3\n",
        "\n",
        "Total params: 4,911,754 \\\n",
        "Best Acc.: 85.24%"
      ],
      "metadata": {
        "id": "JznrrV2SQiwZ"
      }
    },
    {
      "cell_type": "code",
      "source": [
        "# Modified ResNet to have 3 layers instead of 4 layers \n",
        "# first layer has 128 channels\n",
        "class ResNet3Layer128(nn.Module):\n",
        "    def __init__(self, block, num_blocks, num_classes=10):\n",
        "        super(ResNet3Layer128, self).__init__()\n",
        "        self.in_planes = 128\n",
        "\n",
        "        self.conv1 = nn.Conv2d(3, 128, kernel_size=3,\n",
        "                               stride=1, padding=1, bias=False)\n",
        "        self.bn1 = nn.BatchNorm2d(128)\n",
        "        self.layer1 = self._make_layer(block, 128, num_blocks[0], stride=1)\n",
        "        self.layer2 = self._make_layer(block, 256, num_blocks[1], stride=2)\n",
        "        self.layer3 = self._make_layer(block, 512, num_blocks[2], stride=2)\n",
        "        self.linear = nn.Linear(2048*block.expansion, num_classes)\n",
        "\n",
        "    def _make_layer(self, block, planes, num_blocks, stride):\n",
        "        strides = [stride] + [1]*(num_blocks-1)\n",
        "        layers = []\n",
        "        for stride in strides:\n",
        "            layers.append(block(self.in_planes, planes, stride))\n",
        "            self.in_planes = planes * block.expansion\n",
        "        return nn.Sequential(*layers)\n",
        "\n",
        "    def forward(self, x):\n",
        "        out = F.relu(self.bn1(self.conv1(x)))\n",
        "        out = self.layer1(out)\n",
        "        out = self.layer2(out)\n",
        "        out = self.layer3(out)\n",
        "        out = F.avg_pool2d(out, 4)\n",
        "        out = out.view(out.size(0), -1)\n",
        "        out = self.linear(out)\n",
        "        return out"
      ],
      "metadata": {
        "id": "1SXWSIKaQxXG"
      },
      "execution_count": 27,
      "outputs": []
    },
    {
      "cell_type": "code",
      "source": [
        "net5 = ResNet3Layer128(BasicBlock, [1, 1, 1])"
      ],
      "metadata": {
        "id": "iXtRwstKQ0ZS"
      },
      "execution_count": 64,
      "outputs": []
    },
    {
      "cell_type": "code",
      "source": [
        "summary(net5, input_size=(3, 32, 32), device='cpu')"
      ],
      "metadata": {
        "colab": {
          "base_uri": "https://localhost:8080/"
        },
        "id": "RxvjYduMRo-B",
        "outputId": "c7fa2c9d-8659-4934-ebfc-1d2c3c2df9b3"
      },
      "execution_count": 65,
      "outputs": [
        {
          "output_type": "stream",
          "name": "stdout",
          "text": [
            "----------------------------------------------------------------\n",
            "        Layer (type)               Output Shape         Param #\n",
            "================================================================\n",
            "            Conv2d-1          [-1, 128, 32, 32]           3,456\n",
            "       BatchNorm2d-2          [-1, 128, 32, 32]             256\n",
            "            Conv2d-3          [-1, 128, 32, 32]         147,456\n",
            "       BatchNorm2d-4          [-1, 128, 32, 32]             256\n",
            "            Conv2d-5          [-1, 128, 32, 32]         147,456\n",
            "       BatchNorm2d-6          [-1, 128, 32, 32]             256\n",
            "        BasicBlock-7          [-1, 128, 32, 32]               0\n",
            "            Conv2d-8          [-1, 256, 16, 16]         294,912\n",
            "       BatchNorm2d-9          [-1, 256, 16, 16]             512\n",
            "           Conv2d-10          [-1, 256, 16, 16]         589,824\n",
            "      BatchNorm2d-11          [-1, 256, 16, 16]             512\n",
            "           Conv2d-12          [-1, 256, 16, 16]          32,768\n",
            "      BatchNorm2d-13          [-1, 256, 16, 16]             512\n",
            "       BasicBlock-14          [-1, 256, 16, 16]               0\n",
            "           Conv2d-15            [-1, 512, 8, 8]       1,179,648\n",
            "      BatchNorm2d-16            [-1, 512, 8, 8]           1,024\n",
            "           Conv2d-17            [-1, 512, 8, 8]       2,359,296\n",
            "      BatchNorm2d-18            [-1, 512, 8, 8]           1,024\n",
            "           Conv2d-19            [-1, 512, 8, 8]         131,072\n",
            "      BatchNorm2d-20            [-1, 512, 8, 8]           1,024\n",
            "       BasicBlock-21            [-1, 512, 8, 8]               0\n",
            "           Linear-22                   [-1, 10]          20,490\n",
            "================================================================\n",
            "Total params: 4,911,754\n",
            "Trainable params: 4,911,754\n",
            "Non-trainable params: 0\n",
            "----------------------------------------------------------------\n",
            "Input size (MB): 0.01\n",
            "Forward/backward pass size (MB): 12.25\n",
            "Params size (MB): 18.74\n",
            "Estimated Total Size (MB): 31.00\n",
            "----------------------------------------------------------------\n"
          ]
        }
      ]
    },
    {
      "cell_type": "code",
      "source": [
        "trainDataLoader = torch.utils.data.DataLoader(trainingdata, batch_size=64, shuffle=True)\n",
        "testDataLoader = torch.utils.data.DataLoader(testdata, batch_size=64, shuffle=False)\n",
        "cross_entropy_loss = nn.CrossEntropyLoss() \n",
        "optimizer = torch.optim.Adam(net5.parameters(), lr=0.001)"
      ],
      "metadata": {
        "id": "MuD_u7IARtwB"
      },
      "execution_count": 66,
      "outputs": []
    },
    {
      "cell_type": "code",
      "source": [
        "train_loss_history, test_loss_history, test_accuracy_history = train_and_test_model(net5, \n",
        "                                                                                    cross_entropy_loss, \n",
        "                                                                                    trainDataLoader, \n",
        "                                                                                    testDataLoader, \n",
        "                                                                                    optimizer)"
      ],
      "metadata": {
        "colab": {
          "base_uri": "https://localhost:8080/"
        },
        "id": "TXUDYMI8SGVA",
        "outputId": "ea3fb2f1-f72d-4189-8141-fc3cc35e033b"
      },
      "execution_count": 67,
      "outputs": [
        {
          "output_type": "stream",
          "name": "stdout",
          "text": [
            "Epoch 0, Train loss 1.2153349728383067, Test loss 0.9312290598632423, Test accuracy 0.6798\n",
            "Epoch 1, Train loss 0.7547877853178917, Test loss 0.6833569863039977, Test accuracy 0.7689\n",
            "Epoch 2, Train loss 0.5876260639532752, Test loss 0.5975609721651503, Test accuracy 0.8046\n",
            "Epoch 3, Train loss 0.4614087881715706, Test loss 0.551774931751239, Test accuracy 0.8202\n",
            "Epoch 4, Train loss 0.3543397191807132, Test loss 0.5121317334046029, Test accuracy 0.8325\n",
            "Epoch 5, Train loss 0.2654692434212741, Test loss 0.5430426216049559, Test accuracy 0.8352\n",
            "Epoch 6, Train loss 0.1762078426816427, Test loss 0.5493318374939026, Test accuracy 0.8402\n",
            "Epoch 7, Train loss 0.1118456521440688, Test loss 0.5750621675875536, Test accuracy 0.8378\n",
            "Epoch 8, Train loss 0.07806682678968514, Test loss 0.6084256044998291, Test accuracy 0.8446\n",
            "Epoch 9, Train loss 0.06491067336367258, Test loss 0.6302334876007335, Test accuracy 0.8417\n",
            "Epoch 10, Train loss 0.05222037429963012, Test loss 0.6872027305660734, Test accuracy 0.8421\n",
            "Epoch 11, Train loss 0.04627765916958403, Test loss 0.7205326764067267, Test accuracy 0.8405\n",
            "Epoch 12, Train loss 0.03821213944080283, Test loss 0.7279470667812475, Test accuracy 0.8431\n",
            "Epoch 13, Train loss 0.04722662164238365, Test loss 0.7382379406766527, Test accuracy 0.8463\n",
            "Epoch 14, Train loss 0.02790632249478994, Test loss 0.7178934565774954, Test accuracy 0.8493\n",
            "Epoch 15, Train loss 0.021233380473393928, Test loss 0.903357660504663, Test accuracy 0.8291\n",
            "Epoch 16, Train loss 0.04149538307906846, Test loss 0.7202872744031773, Test accuracy 0.8511\n",
            "Epoch 17, Train loss 0.016137665864723302, Test loss 0.7632000855389675, Test accuracy 0.8524\n",
            "Epoch 18, Train loss 0.02907953831686369, Test loss 0.7837689778037892, Test accuracy 0.8455\n",
            "Epoch 19, Train loss 0.024592118692467326, Test loss 0.7887220900909157, Test accuracy 0.8487\n"
          ]
        }
      ]
    },
    {
      "cell_type": "code",
      "source": [
        "plot_result(train_loss_history, test_loss_history, 20)\n",
        "best_accuracy(test_accuracy_history)"
      ],
      "metadata": {
        "colab": {
          "base_uri": "https://localhost:8080/",
          "height": 297
        },
        "id": "jppc3wfwi0OA",
        "outputId": "31ee4ef0-eea5-45d7-e0a7-78168b5c9c3f"
      },
      "execution_count": 68,
      "outputs": [
        {
          "output_type": "stream",
          "name": "stdout",
          "text": [
            "Highest accuracy: 0.8524\n"
          ]
        },
        {
          "output_type": "display_data",
          "data": {
            "text/plain": [
              "<Figure size 432x288 with 1 Axes>"
            ],
            "image/png": "[encoded data removed]"
          },
          "metadata": {
            "needs_background": "light"
          }
        }
      ]
    },
    {
      "cell_type": "markdown",
      "source": [
        "###Option 6\n",
        "3 Residual Layers \\\n",
        "\n",
        "*  Layer 1: 64 channels, 5 residual blocks, kernel size = 3\n",
        "*  Layer 2: 128 channels, 3 residual blocks, kernel size = 3\n",
        "*  Layer 3: 256 channels, 3 residual blocks, kernel size = 3\n",
        "\n",
        "Total params: 4,483,402 \\\n",
        "Best Acc.: 85.96%"
      ],
      "metadata": {
        "id": "bGRJB75ZlQIO"
      }
    },
    {
      "cell_type": "code",
      "source": [
        "net6 = ResNet3Layer(BasicBlock, [5, 3, 3])"
      ],
      "metadata": {
        "id": "akpoVcvbluNe"
      },
      "execution_count": 69,
      "outputs": []
    },
    {
      "cell_type": "code",
      "source": [
        "summary(net6, input_size=(3, 32, 32), device='cpu')"
      ],
      "metadata": {
        "colab": {
          "base_uri": "https://localhost:8080/"
        },
        "id": "kiKMNkZcpRSu",
        "outputId": "b545b040-25ff-48a9-d208-0eb2b655c5fb"
      },
      "execution_count": 70,
      "outputs": [
        {
          "output_type": "stream",
          "name": "stdout",
          "text": [
            "----------------------------------------------------------------\n",
            "        Layer (type)               Output Shape         Param #\n",
            "================================================================\n",
            "            Conv2d-1           [-1, 64, 32, 32]           1,728\n",
            "       BatchNorm2d-2           [-1, 64, 32, 32]             128\n",
            "            Conv2d-3           [-1, 64, 32, 32]          36,864\n",
            "       BatchNorm2d-4           [-1, 64, 32, 32]             128\n",
            "            Conv2d-5           [-1, 64, 32, 32]          36,864\n",
            "       BatchNorm2d-6           [-1, 64, 32, 32]             128\n",
            "        BasicBlock-7           [-1, 64, 32, 32]               0\n",
            "            Conv2d-8           [-1, 64, 32, 32]          36,864\n",
            "       BatchNorm2d-9           [-1, 64, 32, 32]             128\n",
            "           Conv2d-10           [-1, 64, 32, 32]          36,864\n",
            "      BatchNorm2d-11           [-1, 64, 32, 32]             128\n",
            "       BasicBlock-12           [-1, 64, 32, 32]               0\n",
            "           Conv2d-13           [-1, 64, 32, 32]          36,864\n",
            "      BatchNorm2d-14           [-1, 64, 32, 32]             128\n",
            "           Conv2d-15           [-1, 64, 32, 32]          36,864\n",
            "      BatchNorm2d-16           [-1, 64, 32, 32]             128\n",
            "       BasicBlock-17           [-1, 64, 32, 32]               0\n",
            "           Conv2d-18           [-1, 64, 32, 32]          36,864\n",
            "      BatchNorm2d-19           [-1, 64, 32, 32]             128\n",
            "           Conv2d-20           [-1, 64, 32, 32]          36,864\n",
            "      BatchNorm2d-21           [-1, 64, 32, 32]             128\n",
            "       BasicBlock-22           [-1, 64, 32, 32]               0\n",
            "           Conv2d-23           [-1, 64, 32, 32]          36,864\n",
            "      BatchNorm2d-24           [-1, 64, 32, 32]             128\n",
            "           Conv2d-25           [-1, 64, 32, 32]          36,864\n",
            "      BatchNorm2d-26           [-1, 64, 32, 32]             128\n",
            "       BasicBlock-27           [-1, 64, 32, 32]               0\n",
            "           Conv2d-28          [-1, 128, 16, 16]          73,728\n",
            "      BatchNorm2d-29          [-1, 128, 16, 16]             256\n",
            "           Conv2d-30          [-1, 128, 16, 16]         147,456\n",
            "      BatchNorm2d-31          [-1, 128, 16, 16]             256\n",
            "           Conv2d-32          [-1, 128, 16, 16]           8,192\n",
            "      BatchNorm2d-33          [-1, 128, 16, 16]             256\n",
            "       BasicBlock-34          [-1, 128, 16, 16]               0\n",
            "           Conv2d-35          [-1, 128, 16, 16]         147,456\n",
            "      BatchNorm2d-36          [-1, 128, 16, 16]             256\n",
            "           Conv2d-37          [-1, 128, 16, 16]         147,456\n",
            "      BatchNorm2d-38          [-1, 128, 16, 16]             256\n",
            "       BasicBlock-39          [-1, 128, 16, 16]               0\n",
            "           Conv2d-40          [-1, 128, 16, 16]         147,456\n",
            "      BatchNorm2d-41          [-1, 128, 16, 16]             256\n",
            "           Conv2d-42          [-1, 128, 16, 16]         147,456\n",
            "      BatchNorm2d-43          [-1, 128, 16, 16]             256\n",
            "       BasicBlock-44          [-1, 128, 16, 16]               0\n",
            "           Conv2d-45            [-1, 256, 8, 8]         294,912\n",
            "      BatchNorm2d-46            [-1, 256, 8, 8]             512\n",
            "           Conv2d-47            [-1, 256, 8, 8]         589,824\n",
            "      BatchNorm2d-48            [-1, 256, 8, 8]             512\n",
            "           Conv2d-49            [-1, 256, 8, 8]          32,768\n",
            "      BatchNorm2d-50            [-1, 256, 8, 8]             512\n",
            "       BasicBlock-51            [-1, 256, 8, 8]               0\n",
            "           Conv2d-52            [-1, 256, 8, 8]         589,824\n",
            "      BatchNorm2d-53            [-1, 256, 8, 8]             512\n",
            "           Conv2d-54            [-1, 256, 8, 8]         589,824\n",
            "      BatchNorm2d-55            [-1, 256, 8, 8]             512\n",
            "       BasicBlock-56            [-1, 256, 8, 8]               0\n",
            "           Conv2d-57            [-1, 256, 8, 8]         589,824\n",
            "      BatchNorm2d-58            [-1, 256, 8, 8]             512\n",
            "           Conv2d-59            [-1, 256, 8, 8]         589,824\n",
            "      BatchNorm2d-60            [-1, 256, 8, 8]             512\n",
            "       BasicBlock-61            [-1, 256, 8, 8]               0\n",
            "           Linear-62                   [-1, 10]          10,250\n",
            "================================================================\n",
            "Total params: 4,483,402\n",
            "Trainable params: 4,483,402\n",
            "Non-trainable params: 0\n",
            "----------------------------------------------------------------\n",
            "Input size (MB): 0.01\n",
            "Forward/backward pass size (MB): 19.88\n",
            "Params size (MB): 17.10\n",
            "Estimated Total Size (MB): 36.99\n",
            "----------------------------------------------------------------\n"
          ]
        }
      ]
    },
    {
      "cell_type": "code",
      "source": [
        "trainDataLoader = torch.utils.data.DataLoader(trainingdata, batch_size=64, shuffle=True)\n",
        "testDataLoader = torch.utils.data.DataLoader(testdata, batch_size=64, shuffle=False)\n",
        "cross_entropy_loss = nn.CrossEntropyLoss() \n",
        "optimizer = torch.optim.Adam(net6.parameters(), lr=0.001)"
      ],
      "metadata": {
        "id": "lEjua4ZaWmfz"
      },
      "execution_count": 71,
      "outputs": []
    },
    {
      "cell_type": "code",
      "source": [
        "train_loss_history, test_loss_history, test_accuracy_history = train_and_test_model(net6, \n",
        "                                                                                    cross_entropy_loss, \n",
        "                                                                                    trainDataLoader, \n",
        "                                                                                    testDataLoader, \n",
        "                                                                                    optimizer)"
      ],
      "metadata": {
        "colab": {
          "base_uri": "https://localhost:8080/"
        },
        "id": "zNJloK9SWrVb",
        "outputId": "5d5432d0-df2a-46ed-daed-baea1d2d5575"
      },
      "execution_count": 72,
      "outputs": [
        {
          "output_type": "stream",
          "name": "stdout",
          "text": [
            "Epoch 0, Train loss 1.4091167936239706, Test loss 1.052902641569733, Test accuracy 0.6253\n",
            "Epoch 1, Train loss 0.8503743754628369, Test loss 0.7414057205437096, Test accuracy 0.7553\n",
            "Epoch 2, Train loss 0.6213975958811963, Test loss 0.6431558046750961, Test accuracy 0.7868\n",
            "Epoch 3, Train loss 0.49185128452832744, Test loss 0.5424484261281931, Test accuracy 0.8203\n",
            "Epoch 4, Train loss 0.39416903236409284, Test loss 0.5100873485682117, Test accuracy 0.8348\n",
            "Epoch 5, Train loss 0.3123827419336647, Test loss 0.49923599164956695, Test accuracy 0.8432\n",
            "Epoch 6, Train loss 0.24049382176621795, Test loss 0.4864379936342786, Test accuracy 0.8516\n",
            "Epoch 7, Train loss 0.1797758547489143, Test loss 0.5256916163073984, Test accuracy 0.8486\n",
            "Epoch 8, Train loss 0.13004869695924356, Test loss 0.5681887645820144, Test accuracy 0.853\n",
            "Epoch 9, Train loss 0.10021080566412957, Test loss 0.5792900785139412, Test accuracy 0.8555\n",
            "Epoch 10, Train loss 0.07729689921121426, Test loss 0.6112572118450122, Test accuracy 0.8567\n",
            "Epoch 11, Train loss 0.07446557416281689, Test loss 0.6256815166610061, Test accuracy 0.8546\n",
            "Epoch 12, Train loss 0.05806220594235003, Test loss 0.6809194889038231, Test accuracy 0.8521\n",
            "Epoch 13, Train loss 0.05085908720666386, Test loss 0.7446941714377919, Test accuracy 0.85\n",
            "Epoch 14, Train loss 0.05347171167100487, Test loss 0.6946435337233695, Test accuracy 0.854\n",
            "Epoch 15, Train loss 0.041327478276872935, Test loss 0.7275277359090793, Test accuracy 0.8533\n",
            "Epoch 16, Train loss 0.03979531753643909, Test loss 0.757684218655726, Test accuracy 0.8531\n",
            "Epoch 17, Train loss 0.044220217783480426, Test loss 0.7133898956665568, Test accuracy 0.8596\n",
            "Epoch 18, Train loss 0.028866257601561408, Test loss 0.7813334040770865, Test accuracy 0.852\n",
            "Epoch 19, Train loss 0.03180609718598935, Test loss 0.8071878846663578, Test accuracy 0.8494\n"
          ]
        }
      ]
    },
    {
      "cell_type": "code",
      "source": [
        "plot_result(train_loss_history, test_loss_history, 20)\n",
        "best_accuracy(test_accuracy_history)"
      ],
      "metadata": {
        "colab": {
          "base_uri": "https://localhost:8080/",
          "height": 297
        },
        "id": "K36iI0f9i1bJ",
        "outputId": "898b6ff9-f74d-40fd-f1e5-8b53072c56e0"
      },
      "execution_count": 73,
      "outputs": [
        {
          "output_type": "stream",
          "name": "stdout",
          "text": [
            "Highest accuracy: 0.8596\n"
          ]
        },
        {
          "output_type": "display_data",
          "data": {
            "text/plain": [
              "<Figure size 432x288 with 1 Axes>"
            ],
            "image/png": "[encoded data removed]"
          },
          "metadata": {
            "needs_background": "light"
          }
        }
      ]
    },
    {
      "cell_type": "markdown",
      "source": [
        "###Option 7 (BEST)\n",
        "2 Residual Layers \\\n",
        "\n",
        "*  Layer 1: 64 channels, 5 residual blocks, kernel size = 5\n",
        "*  Layer 2: 128 channels, 2 residual blocks, kernel size = 7\n",
        "\n",
        "Total params: 3,851,594 \\\n",
        "Best Acc.: 88.39%"
      ],
      "metadata": {
        "id": "wSDblFDzkwj7"
      }
    },
    {
      "cell_type": "code",
      "source": [
        "# Modified BasicBlock to kernel_size=5, padding=2\n",
        "class BasicBlockK7(nn.Module):\n",
        "    expansion = 1\n",
        "\n",
        "    def __init__(self, in_planes, planes, stride=1):\n",
        "        super(BasicBlockK7, self).__init__()\n",
        "        self.conv1 = nn.Conv2d(\n",
        "            in_planes, planes, kernel_size=7, stride=stride, padding=3, bias=False)\n",
        "        self.bn1 = nn.BatchNorm2d(planes)\n",
        "        self.conv2 = nn.Conv2d(planes, planes, kernel_size=7,\n",
        "                               stride=1, padding=3, bias=False)\n",
        "        self.bn2 = nn.BatchNorm2d(planes)\n",
        "\n",
        "        self.shortcut = nn.Sequential()\n",
        "        if stride != 1 or in_planes != self.expansion*planes:\n",
        "            self.shortcut = nn.Sequential(\n",
        "                nn.Conv2d(in_planes, self.expansion*planes,\n",
        "                          kernel_size=1, stride=stride, bias=False),\n",
        "                nn.BatchNorm2d(self.expansion*planes)\n",
        "            )\n",
        "\n",
        "    def forward(self, x):\n",
        "        out = F.relu(self.bn1(self.conv1(x)))\n",
        "        out = self.bn2(self.conv2(out))\n",
        "        out += self.shortcut(x)\n",
        "        out = F.relu(out)\n",
        "        return out"
      ],
      "metadata": {
        "id": "r5C8pcPYloK-"
      },
      "execution_count": 28,
      "outputs": []
    },
    {
      "cell_type": "code",
      "source": [
        "# TODO: match up matrix dimensions \n",
        "class ResNet2LayerK3K7(nn.Module):\n",
        "    def __init__(self, block1, block2, num_blocks, num_classes=10):\n",
        "        super(ResNet2LayerK3K7, self).__init__()\n",
        "        self.in_planes = 64\n",
        "\n",
        "        self.conv1 = nn.Conv2d(3, 64, kernel_size=3,\n",
        "                               stride=1, padding=1, bias=False)\n",
        "        self.bn1 = nn.BatchNorm2d(64)\n",
        "        self.layer1 = self._make_layer(block1, 64, num_blocks[0], stride=1)\n",
        "        self.layer2 = self._make_layer(block2, 128, num_blocks[1], stride=2)\n",
        "        self.linear = nn.Linear(512*block2.expansion, num_classes)\n",
        "\n",
        "    def _make_layer(self, block, planes, num_blocks, stride):\n",
        "        strides = [stride] + [1]*(num_blocks-1)\n",
        "        layers = []\n",
        "        for stride in strides:\n",
        "            layers.append(block(self.in_planes, planes, stride))\n",
        "            self.in_planes = planes * block.expansion\n",
        "        return nn.Sequential(*layers)\n",
        "\n",
        "    def forward(self, x):\n",
        "        out = F.relu(self.bn1(self.conv1(x)))\n",
        "        out = self.layer1(out)\n",
        "        out = self.layer2(out)\n",
        "        out = F.avg_pool2d(out, 8)\n",
        "        out = out.view(out.size(0), -1)\n",
        "        out = self.linear(out)\n",
        "        return out"
      ],
      "metadata": {
        "id": "eY9rnmXBlE8o"
      },
      "execution_count": 29,
      "outputs": []
    },
    {
      "cell_type": "code",
      "source": [
        "net7 = ResNet2LayerK3K7(BasicBlockK5, BasicBlockK7, [5, 2])"
      ],
      "metadata": {
        "id": "mRbRnuoglzzL"
      },
      "execution_count": 76,
      "outputs": []
    },
    {
      "cell_type": "code",
      "source": [
        "summary(net7, input_size=(3, 32, 32), device='cpu')"
      ],
      "metadata": {
        "colab": {
          "base_uri": "https://localhost:8080/"
        },
        "id": "me9C8f9ol8i8",
        "outputId": "b5640692-7c2b-4df3-894a-e466107d8b86"
      },
      "execution_count": 77,
      "outputs": [
        {
          "output_type": "stream",
          "name": "stdout",
          "text": [
            "----------------------------------------------------------------\n",
            "        Layer (type)               Output Shape         Param #\n",
            "================================================================\n",
            "            Conv2d-1           [-1, 64, 32, 32]           1,728\n",
            "       BatchNorm2d-2           [-1, 64, 32, 32]             128\n",
            "            Conv2d-3           [-1, 64, 32, 32]         102,400\n",
            "       BatchNorm2d-4           [-1, 64, 32, 32]             128\n",
            "            Conv2d-5           [-1, 64, 32, 32]         102,400\n",
            "       BatchNorm2d-6           [-1, 64, 32, 32]             128\n",
            "      BasicBlockK5-7           [-1, 64, 32, 32]               0\n",
            "            Conv2d-8           [-1, 64, 32, 32]         102,400\n",
            "       BatchNorm2d-9           [-1, 64, 32, 32]             128\n",
            "           Conv2d-10           [-1, 64, 32, 32]         102,400\n",
            "      BatchNorm2d-11           [-1, 64, 32, 32]             128\n",
            "     BasicBlockK5-12           [-1, 64, 32, 32]               0\n",
            "           Conv2d-13           [-1, 64, 32, 32]         102,400\n",
            "      BatchNorm2d-14           [-1, 64, 32, 32]             128\n",
            "           Conv2d-15           [-1, 64, 32, 32]         102,400\n",
            "      BatchNorm2d-16           [-1, 64, 32, 32]             128\n",
            "     BasicBlockK5-17           [-1, 64, 32, 32]               0\n",
            "           Conv2d-18           [-1, 64, 32, 32]         102,400\n",
            "      BatchNorm2d-19           [-1, 64, 32, 32]             128\n",
            "           Conv2d-20           [-1, 64, 32, 32]         102,400\n",
            "      BatchNorm2d-21           [-1, 64, 32, 32]             128\n",
            "     BasicBlockK5-22           [-1, 64, 32, 32]               0\n",
            "           Conv2d-23           [-1, 64, 32, 32]         102,400\n",
            "      BatchNorm2d-24           [-1, 64, 32, 32]             128\n",
            "           Conv2d-25           [-1, 64, 32, 32]         102,400\n",
            "      BatchNorm2d-26           [-1, 64, 32, 32]             128\n",
            "     BasicBlockK5-27           [-1, 64, 32, 32]               0\n",
            "           Conv2d-28          [-1, 128, 16, 16]         401,408\n",
            "      BatchNorm2d-29          [-1, 128, 16, 16]             256\n",
            "           Conv2d-30          [-1, 128, 16, 16]         802,816\n",
            "      BatchNorm2d-31          [-1, 128, 16, 16]             256\n",
            "           Conv2d-32          [-1, 128, 16, 16]           8,192\n",
            "      BatchNorm2d-33          [-1, 128, 16, 16]             256\n",
            "     BasicBlockK7-34          [-1, 128, 16, 16]               0\n",
            "           Conv2d-35          [-1, 128, 16, 16]         802,816\n",
            "      BatchNorm2d-36          [-1, 128, 16, 16]             256\n",
            "           Conv2d-37          [-1, 128, 16, 16]         802,816\n",
            "      BatchNorm2d-38          [-1, 128, 16, 16]             256\n",
            "     BasicBlockK7-39          [-1, 128, 16, 16]               0\n",
            "           Linear-40                   [-1, 10]           5,130\n",
            "================================================================\n",
            "Total params: 3,851,594\n",
            "Trainable params: 3,851,594\n",
            "Non-trainable params: 0\n",
            "----------------------------------------------------------------\n",
            "Input size (MB): 0.01\n",
            "Forward/backward pass size (MB): 16.50\n",
            "Params size (MB): 14.69\n",
            "Estimated Total Size (MB): 31.20\n",
            "----------------------------------------------------------------\n"
          ]
        }
      ]
    },
    {
      "cell_type": "code",
      "source": [
        "trainDataLoader = torch.utils.data.DataLoader(trainingdata, batch_size=64, shuffle=True)\n",
        "testDataLoader = torch.utils.data.DataLoader(testdata, batch_size=64, shuffle=False)\n",
        "cross_entropy_loss = nn.CrossEntropyLoss() \n",
        "optimizer = torch.optim.Adam(net7.parameters(), lr=0.001)"
      ],
      "metadata": {
        "id": "0iDjrxgYmTsU"
      },
      "execution_count": 78,
      "outputs": []
    },
    {
      "cell_type": "code",
      "source": [
        "train_loss_history, test_loss_history, test_accuracy_history = train_and_test_model(net7, \n",
        "                                                                                    cross_entropy_loss, \n",
        "                                                                                    trainDataLoader, \n",
        "                                                                                    testDataLoader, \n",
        "                                                                                    optimizer,\n",
        "                                                                                    epoch=40)"
      ],
      "metadata": {
        "colab": {
          "base_uri": "https://localhost:8080/"
        },
        "id": "ds8Y0uIqmTl7",
        "outputId": "31975c51-33ba-4491-8a4d-6f7752158a71"
      },
      "execution_count": 79,
      "outputs": [
        {
          "output_type": "stream",
          "name": "stdout",
          "text": [
            "Epoch 0, Train loss 1.3837213087112397, Test loss 1.0545465433673493, Test accuracy 0.6291\n",
            "Epoch 1, Train loss 0.887517499230097, Test loss 0.8231238354543212, Test accuracy 0.7174\n",
            "Epoch 2, Train loss 0.6744059546448081, Test loss 0.6238865269597169, Test accuracy 0.7898\n",
            "Epoch 3, Train loss 0.5424955959057869, Test loss 0.5844560789454515, Test accuracy 0.8029\n",
            "Epoch 4, Train loss 0.45474261923900344, Test loss 0.5071727809063189, Test accuracy 0.8299\n",
            "Epoch 5, Train loss 0.37383806206228787, Test loss 0.47824417813948006, Test accuracy 0.8422\n",
            "Epoch 6, Train loss 0.3131528169278751, Test loss 0.44794645203146966, Test accuracy 0.8526\n",
            "Epoch 7, Train loss 0.25216343051865886, Test loss 0.43265552733354506, Test accuracy 0.8611\n",
            "Epoch 8, Train loss 0.2060877097594311, Test loss 0.4728463677938577, Test accuracy 0.8542\n",
            "Epoch 9, Train loss 0.16265259708856683, Test loss 0.43666643549682227, Test accuracy 0.8675\n",
            "Epoch 10, Train loss 0.12592508985191736, Test loss 0.46567287490626047, Test accuracy 0.8689\n",
            "Epoch 11, Train loss 0.09879999219670968, Test loss 0.49990712642479856, Test accuracy 0.8628\n",
            "Epoch 12, Train loss 0.07865784477437739, Test loss 0.48500048416625163, Test accuracy 0.873\n",
            "Epoch 13, Train loss 0.07032311970101254, Test loss 0.5485321199343463, Test accuracy 0.8677\n",
            "Epoch 14, Train loss 0.06062337415664435, Test loss 0.5638300665434758, Test accuracy 0.8652\n",
            "Epoch 15, Train loss 0.05701223692988924, Test loss 0.5452010663356751, Test accuracy 0.8732\n",
            "Epoch 16, Train loss 0.043670480019863116, Test loss 0.6172640864161929, Test accuracy 0.8599\n",
            "Epoch 17, Train loss 0.04807219665040217, Test loss 0.520946102062608, Test accuracy 0.8839\n",
            "Epoch 18, Train loss 0.0365823487790785, Test loss 0.6199944835322299, Test accuracy 0.8659\n",
            "Epoch 19, Train loss 0.03803396388835362, Test loss 0.6217214578086403, Test accuracy 0.8696\n",
            "Epoch 20, Train loss 0.033479217028491264, Test loss 0.6447837393564783, Test accuracy 0.8697\n",
            "Epoch 21, Train loss 0.034845332272605056, Test loss 0.6566775807529498, Test accuracy 0.8698\n",
            "Epoch 22, Train loss 0.031217129797736644, Test loss 0.6655584008545633, Test accuracy 0.8684\n",
            "Epoch 23, Train loss 0.029144297859630287, Test loss 0.6293928482729918, Test accuracy 0.8745\n",
            "Epoch 24, Train loss 0.03169530014703384, Test loss 0.6221670908912732, Test accuracy 0.8802\n",
            "Epoch 25, Train loss 0.02348860150583915, Test loss 0.6595335082643351, Test accuracy 0.8753\n",
            "Epoch 26, Train loss 0.024597031892115928, Test loss 0.6656406118896356, Test accuracy 0.8774\n",
            "Epoch 27, Train loss 0.029113387297209213, Test loss 0.6850622127390211, Test accuracy 0.8698\n",
            "Epoch 28, Train loss 0.02099118198883241, Test loss 0.6561312661002017, Test accuracy 0.8818\n",
            "Epoch 29, Train loss 0.02246666615643158, Test loss 0.6943084895610809, Test accuracy 0.8701\n",
            "Epoch 30, Train loss 0.022430947274350754, Test loss 0.6897933380856256, Test accuracy 0.8702\n",
            "Epoch 31, Train loss 0.018558258626471147, Test loss 0.6876967869888825, Test accuracy 0.8777\n",
            "Epoch 32, Train loss 0.020788623195159717, Test loss 0.6947849998547203, Test accuracy 0.871\n",
            "Epoch 33, Train loss 0.022120544615828686, Test loss 0.698301393182794, Test accuracy 0.8737\n",
            "Epoch 34, Train loss 0.016054686070360487, Test loss 0.6748928553573076, Test accuracy 0.8811\n",
            "Epoch 35, Train loss 0.01863786293950844, Test loss 0.6789484058927958, Test accuracy 0.8819\n",
            "Epoch 36, Train loss 0.014343969189705786, Test loss 0.7172237157489464, Test accuracy 0.8778\n",
            "Epoch 37, Train loss 0.019501243205599622, Test loss 0.7426810020189376, Test accuracy 0.873\n",
            "Epoch 38, Train loss 0.014841248917304362, Test loss 0.7168907926530595, Test accuracy 0.877\n",
            "Epoch 39, Train loss 0.013620104928355208, Test loss 0.7280676035791825, Test accuracy 0.8772\n"
          ]
        }
      ]
    },
    {
      "cell_type": "code",
      "source": [
        "plot_result(train_loss_history, test_loss_history, 40)\n",
        "best_accuracy(test_accuracy_history)"
      ],
      "metadata": {
        "colab": {
          "base_uri": "https://localhost:8080/",
          "height": 297
        },
        "id": "IZtkuo-ki5dR",
        "outputId": "3c096897-8873-468d-8245-f071280f822b"
      },
      "execution_count": 80,
      "outputs": [
        {
          "output_type": "stream",
          "name": "stdout",
          "text": [
            "Highest accuracy: 0.8839\n"
          ]
        },
        {
          "output_type": "display_data",
          "data": {
            "text/plain": [
              "<Figure size 432x288 with 1 Axes>"
            ],
            "image/png": "[encoded data removed]"
          },
          "metadata": {
            "needs_background": "light"
          }
        }
      ]
    },
    {
      "cell_type": "markdown",
      "source": [
        "###Option 8 (BEST)\n",
        "2 Residual Layers \\\n",
        "\n",
        "*  Layer 1: 128 channels, 2 residual blocks, kernel size = 3\n",
        "*  Layer 2: 256 channels, 3 residual blocks, kernel size = 3\n",
        "\n",
        "Total params: 3,885,194 \\\n",
        "Best Acc.: 88.47%"
      ],
      "metadata": {
        "id": "8F1B3Yx023uN"
      }
    },
    {
      "cell_type": "code",
      "source": [
        "# TODO: match up matrix dimensions \n",
        "class ResNet2Layer(nn.Module):\n",
        "    def __init__(self, block, num_blocks, num_classes=10):\n",
        "        super(ResNet2Layer, self).__init__()\n",
        "        self.in_planes = 128\n",
        "\n",
        "        self.conv1 = nn.Conv2d(3, 128, kernel_size=3,\n",
        "                               stride=1, padding=1, bias=False)\n",
        "        self.bn1 = nn.BatchNorm2d(128)\n",
        "        self.layer1 = self._make_layer(block, 128, num_blocks[0], stride=1)\n",
        "        self.layer2 = self._make_layer(block, 256, num_blocks[1], stride=2)\n",
        "        self.linear = nn.Linear(1024*block.expansion, num_classes)\n",
        "\n",
        "    def _make_layer(self, block, planes, num_blocks, stride):\n",
        "        strides = [stride] + [1]*(num_blocks-1)\n",
        "        layers = []\n",
        "        for stride in strides:\n",
        "            layers.append(block(self.in_planes, planes, stride))\n",
        "            self.in_planes = planes * block.expansion\n",
        "        return nn.Sequential(*layers)\n",
        "\n",
        "    def forward(self, x):\n",
        "        out = F.relu(self.bn1(self.conv1(x)))\n",
        "        out = self.layer1(out)\n",
        "        out = self.layer2(out)\n",
        "        out = F.avg_pool2d(out, 8)\n",
        "        out = out.view(out.size(0), -1)\n",
        "        out = self.linear(out)\n",
        "        return out"
      ],
      "metadata": {
        "id": "m9Q8xbTQ3X9g"
      },
      "execution_count": 81,
      "outputs": []
    },
    {
      "cell_type": "code",
      "source": [
        "net8 = ResNet2Layer(BasicBlock, [2, 3])"
      ],
      "metadata": {
        "id": "pLOE7xbB3yjT"
      },
      "execution_count": 82,
      "outputs": []
    },
    {
      "cell_type": "code",
      "source": [
        "summary(net8, input_size=(3, 32, 32), device='cpu')"
      ],
      "metadata": {
        "colab": {
          "base_uri": "https://localhost:8080/"
        },
        "id": "anELcyyL35Kp",
        "outputId": "2173254b-ccdf-4be6-b2e3-f207612fcca2"
      },
      "execution_count": 83,
      "outputs": [
        {
          "output_type": "stream",
          "name": "stdout",
          "text": [
            "----------------------------------------------------------------\n",
            "        Layer (type)               Output Shape         Param #\n",
            "================================================================\n",
            "            Conv2d-1          [-1, 128, 32, 32]           3,456\n",
            "       BatchNorm2d-2          [-1, 128, 32, 32]             256\n",
            "            Conv2d-3          [-1, 128, 32, 32]         147,456\n",
            "       BatchNorm2d-4          [-1, 128, 32, 32]             256\n",
            "            Conv2d-5          [-1, 128, 32, 32]         147,456\n",
            "       BatchNorm2d-6          [-1, 128, 32, 32]             256\n",
            "        BasicBlock-7          [-1, 128, 32, 32]               0\n",
            "            Conv2d-8          [-1, 128, 32, 32]         147,456\n",
            "       BatchNorm2d-9          [-1, 128, 32, 32]             256\n",
            "           Conv2d-10          [-1, 128, 32, 32]         147,456\n",
            "      BatchNorm2d-11          [-1, 128, 32, 32]             256\n",
            "       BasicBlock-12          [-1, 128, 32, 32]               0\n",
            "           Conv2d-13          [-1, 256, 16, 16]         294,912\n",
            "      BatchNorm2d-14          [-1, 256, 16, 16]             512\n",
            "           Conv2d-15          [-1, 256, 16, 16]         589,824\n",
            "      BatchNorm2d-16          [-1, 256, 16, 16]             512\n",
            "           Conv2d-17          [-1, 256, 16, 16]          32,768\n",
            "      BatchNorm2d-18          [-1, 256, 16, 16]             512\n",
            "       BasicBlock-19          [-1, 256, 16, 16]               0\n",
            "           Conv2d-20          [-1, 256, 16, 16]         589,824\n",
            "      BatchNorm2d-21          [-1, 256, 16, 16]             512\n",
            "           Conv2d-22          [-1, 256, 16, 16]         589,824\n",
            "      BatchNorm2d-23          [-1, 256, 16, 16]             512\n",
            "       BasicBlock-24          [-1, 256, 16, 16]               0\n",
            "           Conv2d-25          [-1, 256, 16, 16]         589,824\n",
            "      BatchNorm2d-26          [-1, 256, 16, 16]             512\n",
            "           Conv2d-27          [-1, 256, 16, 16]         589,824\n",
            "      BatchNorm2d-28          [-1, 256, 16, 16]             512\n",
            "       BasicBlock-29          [-1, 256, 16, 16]               0\n",
            "           Linear-30                   [-1, 10]          10,250\n",
            "================================================================\n",
            "Total params: 3,885,194\n",
            "Trainable params: 3,885,194\n",
            "Non-trainable params: 0\n",
            "----------------------------------------------------------------\n",
            "Input size (MB): 0.01\n",
            "Forward/backward pass size (MB): 20.50\n",
            "Params size (MB): 14.82\n",
            "Estimated Total Size (MB): 35.33\n",
            "----------------------------------------------------------------\n"
          ]
        }
      ]
    },
    {
      "cell_type": "code",
      "source": [
        "trainDataLoader = torch.utils.data.DataLoader(trainingdata, batch_size=64, shuffle=True)\n",
        "testDataLoader = torch.utils.data.DataLoader(testdata, batch_size=64, shuffle=False)\n",
        "cross_entropy_loss = nn.CrossEntropyLoss() \n",
        "optimizer = torch.optim.Adam(net8.parameters(), lr=0.001)"
      ],
      "metadata": {
        "id": "IlQK-p3sffOw"
      },
      "execution_count": 84,
      "outputs": []
    },
    {
      "cell_type": "code",
      "source": [
        "train_loss_history, test_loss_history, test_accuracy_history = train_and_test_model(net8, \n",
        "                                                                                    cross_entropy_loss, \n",
        "                                                                                    trainDataLoader, \n",
        "                                                                                    testDataLoader, \n",
        "                                                                                    optimizer,\n",
        "                                                                                    epoch=50)"
      ],
      "metadata": {
        "colab": {
          "base_uri": "https://localhost:8080/"
        },
        "id": "jKUMz9tCfhps",
        "outputId": "6902c09a-69a6-4e3d-dc23-df8d6ad2fdf0"
      },
      "execution_count": 85,
      "outputs": [
        {
          "output_type": "stream",
          "name": "stdout",
          "text": [
            "Epoch 0, Train loss 1.2881071325153342, Test loss 0.9978550410574409, Test accuracy 0.6513\n",
            "Epoch 1, Train loss 0.7810898901861342, Test loss 0.7236365058999152, Test accuracy 0.7511\n",
            "Epoch 2, Train loss 0.6005596585971925, Test loss 0.5955518897931287, Test accuracy 0.7973\n",
            "Epoch 3, Train loss 0.4886214337347414, Test loss 0.5133435710979875, Test accuracy 0.8308\n",
            "Epoch 4, Train loss 0.3996119108765631, Test loss 0.4810009279828163, Test accuracy 0.8455\n",
            "Epoch 5, Train loss 0.3328304901680983, Test loss 0.4948399932521164, Test accuracy 0.8417\n",
            "Epoch 6, Train loss 0.2629169265327551, Test loss 0.45580558943900334, Test accuracy 0.8579\n",
            "Epoch 7, Train loss 0.20660781189132377, Test loss 0.42490107836617025, Test accuracy 0.8719\n",
            "Epoch 8, Train loss 0.15859774199655027, Test loss 0.4608215302418751, Test accuracy 0.8665\n",
            "Epoch 9, Train loss 0.12483874577409623, Test loss 0.47775972345072754, Test accuracy 0.8685\n",
            "Epoch 10, Train loss 0.09664718573436598, Test loss 0.5304596988828318, Test accuracy 0.8616\n",
            "Epoch 11, Train loss 0.07991782399227895, Test loss 0.5310467465003584, Test accuracy 0.8673\n",
            "Epoch 12, Train loss 0.06704207778136577, Test loss 0.5560496663971312, Test accuracy 0.8707\n",
            "Epoch 13, Train loss 0.06350341869775405, Test loss 0.5593586533692232, Test accuracy 0.871\n",
            "Epoch 14, Train loss 0.04838785908707177, Test loss 0.5894144419462058, Test accuracy 0.8719\n",
            "Epoch 15, Train loss 0.05768487103196466, Test loss 0.5442620950519659, Test accuracy 0.8761\n",
            "Epoch 16, Train loss 0.0344725312567447, Test loss 0.6206970084814509, Test accuracy 0.8669\n",
            "Epoch 17, Train loss 0.04545720807275773, Test loss 0.6094108646984693, Test accuracy 0.8682\n",
            "Epoch 18, Train loss 0.037175759513084744, Test loss 0.6722774434905903, Test accuracy 0.864\n",
            "Epoch 19, Train loss 0.03816931166924605, Test loss 0.6638819269693581, Test accuracy 0.8608\n",
            "Epoch 20, Train loss 0.03053385339868779, Test loss 0.6024562421308202, Test accuracy 0.8781\n",
            "Epoch 21, Train loss 0.03596886908678669, Test loss 0.6376456564209264, Test accuracy 0.8707\n",
            "Epoch 22, Train loss 0.025414621280936484, Test loss 0.6469735947384196, Test accuracy 0.8777\n",
            "Epoch 23, Train loss 0.034663080127419706, Test loss 0.6447783901243452, Test accuracy 0.8733\n",
            "Epoch 24, Train loss 0.02451841687196163, Test loss 0.6476122224881391, Test accuracy 0.8765\n",
            "Epoch 25, Train loss 0.026306377899850294, Test loss 0.6736402050325065, Test accuracy 0.8747\n",
            "Epoch 26, Train loss 0.019715526488834702, Test loss 0.6856042811184362, Test accuracy 0.8765\n",
            "Epoch 27, Train loss 0.03036300672909401, Test loss 0.691529738153242, Test accuracy 0.8772\n",
            "Epoch 28, Train loss 0.022469937864816367, Test loss 0.6963753443045221, Test accuracy 0.8723\n",
            "Epoch 29, Train loss 0.019907116879142026, Test loss 0.6835767033088739, Test accuracy 0.8833\n",
            "Epoch 30, Train loss 0.02495513097957529, Test loss 0.6929464354446739, Test accuracy 0.8757\n",
            "Epoch 31, Train loss 0.023384744946570137, Test loss 0.6632895721181943, Test accuracy 0.8798\n",
            "Epoch 32, Train loss 0.014283214050461688, Test loss 0.7023928027813602, Test accuracy 0.8804\n",
            "Epoch 33, Train loss 0.02144807409901527, Test loss 0.6679436250761815, Test accuracy 0.8821\n",
            "Epoch 34, Train loss 0.021586731313197636, Test loss 0.7181334692486532, Test accuracy 0.8756\n",
            "Epoch 35, Train loss 0.019258498782519406, Test loss 0.6589271418489279, Test accuracy 0.8841\n",
            "Epoch 36, Train loss 0.012388158849247134, Test loss 0.6998641351415853, Test accuracy 0.8818\n",
            "Epoch 37, Train loss 0.017172187471409125, Test loss 0.7151929825591813, Test accuracy 0.8805\n",
            "Epoch 38, Train loss 0.0177130192502082, Test loss 0.6910275200464923, Test accuracy 0.8832\n",
            "Epoch 39, Train loss 0.01772310614567063, Test loss 0.7143672852759149, Test accuracy 0.8846\n",
            "Epoch 40, Train loss 0.016147549482139555, Test loss 0.7054094305843305, Test accuracy 0.8827\n",
            "Epoch 41, Train loss 0.017437861586981657, Test loss 0.7380071127680456, Test accuracy 0.8801\n",
            "Epoch 42, Train loss 0.010902682750974797, Test loss 0.7221694204268182, Test accuracy 0.8814\n",
            "Epoch 43, Train loss 0.01711032528203915, Test loss 0.7338561520549902, Test accuracy 0.8821\n",
            "Epoch 44, Train loss 0.015320508199341758, Test loss 0.7440720836448061, Test accuracy 0.8782\n",
            "Epoch 45, Train loss 0.015372516358477015, Test loss 0.7242000798700722, Test accuracy 0.8847\n",
            "Epoch 46, Train loss 0.006974257582600251, Test loss 0.7453352679872209, Test accuracy 0.8786\n",
            "Epoch 47, Train loss 0.014038058427169391, Test loss 0.757227437036812, Test accuracy 0.8803\n",
            "Epoch 48, Train loss 0.018933133418492624, Test loss 0.7626311125079538, Test accuracy 0.8778\n",
            "Epoch 49, Train loss 0.009510094834627881, Test loss 0.7658412129303832, Test accuracy 0.8794\n"
          ]
        }
      ]
    },
    {
      "cell_type": "code",
      "source": [
        "plot_result(train_loss_history, test_loss_history, 50)\n",
        "best_accuracy(test_accuracy_history)"
      ],
      "metadata": {
        "colab": {
          "base_uri": "https://localhost:8080/",
          "height": 297
        },
        "id": "FT84fIX0jAJ-",
        "outputId": "63292c3d-6bae-4195-d407-030e16f429f1"
      },
      "execution_count": 86,
      "outputs": [
        {
          "output_type": "stream",
          "name": "stdout",
          "text": [
            "Highest accuracy: 0.8847\n"
          ]
        },
        {
          "output_type": "display_data",
          "data": {
            "text/plain": [
              "<Figure size 432x288 with 1 Axes>"
            ],
            "image/png": "[encoded data removed]"
          },
          "metadata": {
            "needs_background": "light"
          }
        }
      ]
    },
    {
      "cell_type": "markdown",
      "source": [
        "###Option 9 (BEST)\n",
        "2 Residual Layers \\\n",
        "\n",
        "*  Layer 1: 64 channels, 6 residual blocks, kernel size = 3\n",
        "*  Layer 2: 128 channels, 3 residual blocks, kernel size = 7\n",
        "\n",
        "Total params: 4,876,362 \\\n",
        "Best Acc.: 88.56%"
      ],
      "metadata": {
        "id": "1Zo7PtKOOwy1"
      }
    },
    {
      "cell_type": "code",
      "source": [
        "net10 = ResNet2LayerK3K7(BasicBlock, BasicBlockK7, [6, 3])"
      ],
      "metadata": {
        "id": "jg3ftJhAO-Ma"
      },
      "execution_count": 32,
      "outputs": []
    },
    {
      "cell_type": "code",
      "source": [
        "summary(net10, input_size=(3, 32, 32), device='cpu')"
      ],
      "metadata": {
        "colab": {
          "base_uri": "https://localhost:8080/"
        },
        "id": "9Q_UEUAePDw2",
        "outputId": "485527ba-abac-4f21-a553-b5ef275cd6bb"
      },
      "execution_count": 33,
      "outputs": [
        {
          "output_type": "stream",
          "name": "stdout",
          "text": [
            "----------------------------------------------------------------\n",
            "        Layer (type)               Output Shape         Param #\n",
            "================================================================\n",
            "            Conv2d-1           [-1, 64, 32, 32]           1,728\n",
            "       BatchNorm2d-2           [-1, 64, 32, 32]             128\n",
            "            Conv2d-3           [-1, 64, 32, 32]          36,864\n",
            "       BatchNorm2d-4           [-1, 64, 32, 32]             128\n",
            "            Conv2d-5           [-1, 64, 32, 32]          36,864\n",
            "       BatchNorm2d-6           [-1, 64, 32, 32]             128\n",
            "        BasicBlock-7           [-1, 64, 32, 32]               0\n",
            "            Conv2d-8           [-1, 64, 32, 32]          36,864\n",
            "       BatchNorm2d-9           [-1, 64, 32, 32]             128\n",
            "           Conv2d-10           [-1, 64, 32, 32]          36,864\n",
            "      BatchNorm2d-11           [-1, 64, 32, 32]             128\n",
            "       BasicBlock-12           [-1, 64, 32, 32]               0\n",
            "           Conv2d-13           [-1, 64, 32, 32]          36,864\n",
            "      BatchNorm2d-14           [-1, 64, 32, 32]             128\n",
            "           Conv2d-15           [-1, 64, 32, 32]          36,864\n",
            "      BatchNorm2d-16           [-1, 64, 32, 32]             128\n",
            "       BasicBlock-17           [-1, 64, 32, 32]               0\n",
            "           Conv2d-18           [-1, 64, 32, 32]          36,864\n",
            "      BatchNorm2d-19           [-1, 64, 32, 32]             128\n",
            "           Conv2d-20           [-1, 64, 32, 32]          36,864\n",
            "      BatchNorm2d-21           [-1, 64, 32, 32]             128\n",
            "       BasicBlock-22           [-1, 64, 32, 32]               0\n",
            "           Conv2d-23           [-1, 64, 32, 32]          36,864\n",
            "      BatchNorm2d-24           [-1, 64, 32, 32]             128\n",
            "           Conv2d-25           [-1, 64, 32, 32]          36,864\n",
            "      BatchNorm2d-26           [-1, 64, 32, 32]             128\n",
            "       BasicBlock-27           [-1, 64, 32, 32]               0\n",
            "           Conv2d-28           [-1, 64, 32, 32]          36,864\n",
            "      BatchNorm2d-29           [-1, 64, 32, 32]             128\n",
            "           Conv2d-30           [-1, 64, 32, 32]          36,864\n",
            "      BatchNorm2d-31           [-1, 64, 32, 32]             128\n",
            "       BasicBlock-32           [-1, 64, 32, 32]               0\n",
            "           Conv2d-33          [-1, 128, 16, 16]         401,408\n",
            "      BatchNorm2d-34          [-1, 128, 16, 16]             256\n",
            "           Conv2d-35          [-1, 128, 16, 16]         802,816\n",
            "      BatchNorm2d-36          [-1, 128, 16, 16]             256\n",
            "           Conv2d-37          [-1, 128, 16, 16]           8,192\n",
            "      BatchNorm2d-38          [-1, 128, 16, 16]             256\n",
            "     BasicBlockK7-39          [-1, 128, 16, 16]               0\n",
            "           Conv2d-40          [-1, 128, 16, 16]         802,816\n",
            "      BatchNorm2d-41          [-1, 128, 16, 16]             256\n",
            "           Conv2d-42          [-1, 128, 16, 16]         802,816\n",
            "      BatchNorm2d-43          [-1, 128, 16, 16]             256\n",
            "     BasicBlockK7-44          [-1, 128, 16, 16]               0\n",
            "           Conv2d-45          [-1, 128, 16, 16]         802,816\n",
            "      BatchNorm2d-46          [-1, 128, 16, 16]             256\n",
            "           Conv2d-47          [-1, 128, 16, 16]         802,816\n",
            "      BatchNorm2d-48          [-1, 128, 16, 16]             256\n",
            "     BasicBlockK7-49          [-1, 128, 16, 16]               0\n",
            "           Linear-50                   [-1, 10]           5,130\n",
            "================================================================\n",
            "Total params: 4,876,362\n",
            "Trainable params: 4,876,362\n",
            "Non-trainable params: 0\n",
            "----------------------------------------------------------------\n",
            "Input size (MB): 0.01\n",
            "Forward/backward pass size (MB): 20.25\n",
            "Params size (MB): 18.60\n",
            "Estimated Total Size (MB): 38.86\n",
            "----------------------------------------------------------------\n"
          ]
        }
      ]
    },
    {
      "cell_type": "code",
      "source": [
        "trainDataLoader = torch.utils.data.DataLoader(trainingdata, batch_size=64, shuffle=True)\n",
        "testDataLoader = torch.utils.data.DataLoader(testdata, batch_size=64, shuffle=False)\n",
        "cross_entropy_loss = nn.CrossEntropyLoss() \n",
        "optimizer = torch.optim.Adam(net10.parameters(), lr=0.001)"
      ],
      "metadata": {
        "id": "XAaCbXEMPIdt"
      },
      "execution_count": 34,
      "outputs": []
    },
    {
      "cell_type": "code",
      "source": [
        "train_loss_history, test_loss_history, test_accuracy_history = train_and_test_model(net10, \n",
        "                                                                                    cross_entropy_loss, \n",
        "                                                                                    trainDataLoader, \n",
        "                                                                                    testDataLoader, \n",
        "                                                                                    optimizer,\n",
        "                                                                                    epoch=40)"
      ],
      "metadata": {
        "colab": {
          "base_uri": "https://localhost:8080/"
        },
        "id": "rqqTriOHS5sx",
        "outputId": "aef69bed-79ac-47ae-b59c-8a4b6e7ee115"
      },
      "execution_count": 35,
      "outputs": [
        {
          "output_type": "stream",
          "name": "stdout",
          "text": [
            "Epoch 0, Train loss 1.2588961055059262, Test loss 0.8899344262803436, Test accuracy 0.6902\n",
            "Epoch 1, Train loss 0.7448249532438606, Test loss 0.6620994176074957, Test accuracy 0.7732\n",
            "Epoch 2, Train loss 0.5655425615475306, Test loss 0.5336481932621853, Test accuracy 0.82\n",
            "Epoch 3, Train loss 0.45147004271940805, Test loss 0.49004723198094946, Test accuracy 0.8356\n",
            "Epoch 4, Train loss 0.3706730792437063, Test loss 0.47916060728821785, Test accuracy 0.8429\n",
            "Epoch 5, Train loss 0.29943185438737846, Test loss 0.4310169753375327, Test accuracy 0.8645\n",
            "Epoch 6, Train loss 0.2363123550315571, Test loss 0.4521609160835576, Test accuracy 0.8576\n",
            "Epoch 7, Train loss 0.18519450166760504, Test loss 0.44391510735271844, Test accuracy 0.8666\n",
            "Epoch 8, Train loss 0.14349615000917212, Test loss 0.43824524541569365, Test accuracy 0.8726\n",
            "Epoch 9, Train loss 0.10865185062146133, Test loss 0.466034674530576, Test accuracy 0.8758\n",
            "Epoch 10, Train loss 0.08775816771232754, Test loss 0.49990808897337335, Test accuracy 0.8725\n",
            "Epoch 11, Train loss 0.07921747676134967, Test loss 0.5093587236419604, Test accuracy 0.8733\n",
            "Epoch 12, Train loss 0.0582040288186956, Test loss 0.5544984535711586, Test accuracy 0.8749\n",
            "Epoch 13, Train loss 0.058520008420424006, Test loss 0.5740576002058709, Test accuracy 0.8679\n",
            "Epoch 14, Train loss 0.04754166762657759, Test loss 0.5469661046080528, Test accuracy 0.8801\n",
            "Epoch 15, Train loss 0.044923082550676764, Test loss 0.6056333299085592, Test accuracy 0.8704\n",
            "Epoch 16, Train loss 0.0425538215117426, Test loss 0.5755646354073931, Test accuracy 0.8798\n",
            "Epoch 17, Train loss 0.03094365347697533, Test loss 0.6387265268594596, Test accuracy 0.8702\n",
            "Epoch 18, Train loss 0.04238343135500803, Test loss 0.6445240606168273, Test accuracy 0.8731\n",
            "Epoch 19, Train loss 0.03230181129922009, Test loss 0.6360956202646729, Test accuracy 0.8772\n",
            "Epoch 20, Train loss 0.028995156878122926, Test loss 0.6348913917495946, Test accuracy 0.8775\n",
            "Epoch 21, Train loss 0.030239309822434716, Test loss 0.6165106476871831, Test accuracy 0.8783\n",
            "Epoch 22, Train loss 0.025010856018778917, Test loss 0.7200510352375401, Test accuracy 0.8699\n",
            "Epoch 23, Train loss 0.0311053803579434, Test loss 0.6021678945536066, Test accuracy 0.8838\n",
            "Epoch 24, Train loss 0.02291692237253524, Test loss 0.6809820101424388, Test accuracy 0.876\n",
            "Epoch 25, Train loss 0.025600018215055986, Test loss 0.6631843066139586, Test accuracy 0.878\n",
            "Epoch 26, Train loss 0.019225107231180368, Test loss 0.6119239552385488, Test accuracy 0.8856\n",
            "Epoch 27, Train loss 0.024045894397534694, Test loss 0.6669778085616269, Test accuracy 0.8752\n",
            "Epoch 28, Train loss 0.019303078788997043, Test loss 0.7233353853700267, Test accuracy 0.876\n",
            "Epoch 29, Train loss 0.022393163315595432, Test loss 0.7055025289582598, Test accuracy 0.8756\n",
            "Epoch 30, Train loss 0.016298373771255717, Test loss 0.6525522058556794, Test accuracy 0.8822\n",
            "Epoch 31, Train loss 0.022810645093877868, Test loss 0.6702128359276778, Test accuracy 0.8844\n",
            "Epoch 32, Train loss 0.018951642479466135, Test loss 0.665317707001024, Test accuracy 0.8833\n",
            "Epoch 33, Train loss 0.009603137312878414, Test loss 0.7690915789478904, Test accuracy 0.8729\n",
            "Epoch 34, Train loss 0.022766054618543998, Test loss 0.7211134788716674, Test accuracy 0.882\n",
            "Epoch 35, Train loss 0.016356368606650035, Test loss 0.6540031051085253, Test accuracy 0.8828\n",
            "Epoch 36, Train loss 0.01394941660507759, Test loss 0.7421646279514216, Test accuracy 0.8794\n",
            "Epoch 37, Train loss 0.00973927827696345, Test loss 0.7636822590212913, Test accuracy 0.8747\n",
            "Epoch 38, Train loss 0.020591573814046495, Test loss 0.7181085341960002, Test accuracy 0.88\n",
            "Epoch 39, Train loss 0.011018164508211024, Test loss 0.7259201208117662, Test accuracy 0.8816\n"
          ]
        }
      ]
    },
    {
      "cell_type": "code",
      "source": [
        "plot_result(train_loss_history, test_loss_history, 40)\n",
        "plot_accuracy(test_accuracy_history, 40)\n",
        "best_accuracy(test_accuracy_history)"
      ],
      "metadata": {
        "colab": {
          "base_uri": "https://localhost:8080/",
          "height": 559
        },
        "id": "inG4EV3yTEcv",
        "outputId": "b614e4ec-1fe4-4d49-9a51-e85a193dfedb"
      },
      "execution_count": 36,
      "outputs": [
        {
          "output_type": "stream",
          "name": "stdout",
          "text": [
            "Highest accuracy: 0.8856\n"
          ]
        },
        {
          "output_type": "display_data",
          "data": {
            "text/plain": [
              "<Figure size 432x288 with 1 Axes>"
            ],
            "image/png": "[encoded data removed]"
          },
          "metadata": {
            "needs_background": "light"
          }
        },
        {
          "output_type": "display_data",
          "data": {
            "text/plain": [
              "<Figure size 432x288 with 1 Axes>"
            ],
            "image/png": "[encoded data removed]"
          },
          "metadata": {
            "needs_background": "light"
          }
        }
      ]
    },
    {
      "cell_type": "markdown",
      "source": [
        "###Option 10\n",
        "2 Residual Layers \\\n",
        "\n",
        "*  Layer 1: 128 channels, 3 residual blocks, kernel size = 3\n",
        "*  Layer 2: 256 channels, 2 residual blocks, kernel size = 5\n",
        "\n",
        "Total params: 926,282 \\\n",
        "Best Acc.: 87.28%"
      ],
      "metadata": {
        "id": "KAfOxkgaw2K1"
      }
    },
    {
      "cell_type": "code",
      "source": [
        "net9 = ResNet2LayerK3K7(BasicBlock, BasicBlockK5, [4, 1])"
      ],
      "metadata": {
        "id": "N4Sphli3zSgP"
      },
      "execution_count": 87,
      "outputs": []
    },
    {
      "cell_type": "code",
      "source": [
        "summary(net9, input_size=(3, 32, 32), device='cpu')"
      ],
      "metadata": {
        "colab": {
          "base_uri": "https://localhost:8080/"
        },
        "id": "KO104hFvzlC8",
        "outputId": "b6393678-2893-468f-96e2-2da4ade1e5cb"
      },
      "execution_count": 88,
      "outputs": [
        {
          "output_type": "stream",
          "name": "stdout",
          "text": [
            "----------------------------------------------------------------\n",
            "        Layer (type)               Output Shape         Param #\n",
            "================================================================\n",
            "            Conv2d-1           [-1, 64, 32, 32]           1,728\n",
            "       BatchNorm2d-2           [-1, 64, 32, 32]             128\n",
            "            Conv2d-3           [-1, 64, 32, 32]          36,864\n",
            "       BatchNorm2d-4           [-1, 64, 32, 32]             128\n",
            "            Conv2d-5           [-1, 64, 32, 32]          36,864\n",
            "       BatchNorm2d-6           [-1, 64, 32, 32]             128\n",
            "        BasicBlock-7           [-1, 64, 32, 32]               0\n",
            "            Conv2d-8           [-1, 64, 32, 32]          36,864\n",
            "       BatchNorm2d-9           [-1, 64, 32, 32]             128\n",
            "           Conv2d-10           [-1, 64, 32, 32]          36,864\n",
            "      BatchNorm2d-11           [-1, 64, 32, 32]             128\n",
            "       BasicBlock-12           [-1, 64, 32, 32]               0\n",
            "           Conv2d-13           [-1, 64, 32, 32]          36,864\n",
            "      BatchNorm2d-14           [-1, 64, 32, 32]             128\n",
            "           Conv2d-15           [-1, 64, 32, 32]          36,864\n",
            "      BatchNorm2d-16           [-1, 64, 32, 32]             128\n",
            "       BasicBlock-17           [-1, 64, 32, 32]               0\n",
            "           Conv2d-18           [-1, 64, 32, 32]          36,864\n",
            "      BatchNorm2d-19           [-1, 64, 32, 32]             128\n",
            "           Conv2d-20           [-1, 64, 32, 32]          36,864\n",
            "      BatchNorm2d-21           [-1, 64, 32, 32]             128\n",
            "       BasicBlock-22           [-1, 64, 32, 32]               0\n",
            "           Conv2d-23          [-1, 128, 16, 16]         204,800\n",
            "      BatchNorm2d-24          [-1, 128, 16, 16]             256\n",
            "           Conv2d-25          [-1, 128, 16, 16]         409,600\n",
            "      BatchNorm2d-26          [-1, 128, 16, 16]             256\n",
            "           Conv2d-27          [-1, 128, 16, 16]           8,192\n",
            "      BatchNorm2d-28          [-1, 128, 16, 16]             256\n",
            "     BasicBlockK5-29          [-1, 128, 16, 16]               0\n",
            "           Linear-30                   [-1, 10]           5,130\n",
            "================================================================\n",
            "Total params: 926,282\n",
            "Trainable params: 926,282\n",
            "Non-trainable params: 0\n",
            "----------------------------------------------------------------\n",
            "Input size (MB): 0.01\n",
            "Forward/backward pass size (MB): 12.75\n",
            "Params size (MB): 3.53\n",
            "Estimated Total Size (MB): 16.30\n",
            "----------------------------------------------------------------\n"
          ]
        }
      ]
    },
    {
      "cell_type": "code",
      "source": [
        "trainDataLoader = torch.utils.data.DataLoader(trainingdata, batch_size=64, shuffle=True)\n",
        "testDataLoader = torch.utils.data.DataLoader(testdata, batch_size=64, shuffle=False)\n",
        "cross_entropy_loss = nn.CrossEntropyLoss() \n",
        "optimizer = torch.optim.Adam(net9.parameters(), lr=0.001, weight_decay=1e-4)"
      ],
      "metadata": {
        "id": "eVOKzkGpzngC"
      },
      "execution_count": 89,
      "outputs": []
    },
    {
      "cell_type": "code",
      "source": [
        "train_loss_history, test_loss_history, test_accuracy_history = train_and_test_model(net9, \n",
        "                                                                                    cross_entropy_loss, \n",
        "                                                                                    trainDataLoader, \n",
        "                                                                                    testDataLoader, \n",
        "                                                                                    optimizer,\n",
        "                                                                                    epoch=100)"
      ],
      "metadata": {
        "colab": {
          "base_uri": "https://localhost:8080/"
        },
        "id": "2wdrEpPOzrVa",
        "outputId": "dd05beaa-1feb-4b77-955d-985a8b43434a"
      },
      "execution_count": 90,
      "outputs": [
        {
          "output_type": "stream",
          "name": "stdout",
          "text": [
            "Epoch 0, Train loss 1.2620947062969208, Test loss 1.001976356005213, Test accuracy 0.6423\n",
            "Epoch 1, Train loss 0.8319855155161274, Test loss 0.7599449930297342, Test accuracy 0.7457\n",
            "Epoch 2, Train loss 0.6724394974120133, Test loss 0.6197444441591858, Test accuracy 0.7928\n",
            "Epoch 3, Train loss 0.5703709899159648, Test loss 0.5924189870904206, Test accuracy 0.7977\n",
            "Epoch 4, Train loss 0.49824689549710743, Test loss 0.5089381255541637, Test accuracy 0.8308\n",
            "Epoch 5, Train loss 0.4401849094406723, Test loss 0.4985731059958221, Test accuracy 0.8324\n",
            "Epoch 6, Train loss 0.3920008964322107, Test loss 0.4886188478606522, Test accuracy 0.8355\n",
            "Epoch 7, Train loss 0.3560516153416975, Test loss 0.4676876917576334, Test accuracy 0.8446\n",
            "Epoch 8, Train loss 0.3175416584210018, Test loss 0.4619760804685058, Test accuracy 0.8458\n",
            "Epoch 9, Train loss 0.2900226227748577, Test loss 0.45276441667110295, Test accuracy 0.8554\n",
            "Epoch 10, Train loss 0.2608388304672278, Test loss 0.4437857721072094, Test accuracy 0.8591\n",
            "Epoch 11, Train loss 0.23392650324022374, Test loss 0.44859094262882404, Test accuracy 0.8591\n",
            "Epoch 12, Train loss 0.20863458889124492, Test loss 0.41234399928788473, Test accuracy 0.8728\n",
            "Epoch 13, Train loss 0.1882185687684952, Test loss 0.4477326691530313, Test accuracy 0.8609\n",
            "Epoch 14, Train loss 0.1693717368766475, Test loss 0.4696490973424, Test accuracy 0.8622\n",
            "Epoch 15, Train loss 0.15553731811911706, Test loss 0.485358626219877, Test accuracy 0.8584\n",
            "Epoch 16, Train loss 0.1393604903098415, Test loss 0.46981227037253653, Test accuracy 0.862\n",
            "Epoch 17, Train loss 0.13289702394286462, Test loss 0.5022767565812275, Test accuracy 0.8523\n",
            "Epoch 18, Train loss 0.11928680794947136, Test loss 0.49772657871625986, Test accuracy 0.8588\n",
            "Epoch 19, Train loss 0.1095961051971635, Test loss 0.5108188789361602, Test accuracy 0.8587\n",
            "Epoch 20, Train loss 0.10928012586444083, Test loss 0.49830578049277047, Test accuracy 0.8581\n",
            "Epoch 21, Train loss 0.10502580610935187, Test loss 0.5460350064525179, Test accuracy 0.8556\n",
            "Epoch 22, Train loss 0.09288628949352619, Test loss 0.5252253352931351, Test accuracy 0.8574\n",
            "Epoch 23, Train loss 0.09998237267863053, Test loss 0.5184325869580743, Test accuracy 0.8557\n",
            "Epoch 24, Train loss 0.09029040720237566, Test loss 0.5302731546626729, Test accuracy 0.8579\n",
            "Epoch 25, Train loss 0.08390532835634411, Test loss 0.5536211739489987, Test accuracy 0.8541\n",
            "Epoch 26, Train loss 0.09069961091846494, Test loss 0.5519785240387461, Test accuracy 0.8594\n",
            "Epoch 27, Train loss 0.08095929974004093, Test loss 0.6053813553539811, Test accuracy 0.847\n",
            "Epoch 28, Train loss 0.08120897738918033, Test loss 0.5625971904985464, Test accuracy 0.8571\n",
            "Epoch 29, Train loss 0.08320681144104665, Test loss 0.5314838618609556, Test accuracy 0.8617\n",
            "Epoch 30, Train loss 0.07916983305012136, Test loss 0.5653675914190377, Test accuracy 0.8534\n",
            "Epoch 31, Train loss 0.07925218163127237, Test loss 0.5819422558994051, Test accuracy 0.8519\n",
            "Epoch 32, Train loss 0.07510338354048313, Test loss 0.5536989807418198, Test accuracy 0.8577\n",
            "Epoch 33, Train loss 0.07231867570332383, Test loss 0.587732679335175, Test accuracy 0.852\n",
            "Epoch 34, Train loss 0.07566745251255191, Test loss 0.546918953774841, Test accuracy 0.863\n",
            "Epoch 35, Train loss 0.06784347082128572, Test loss 0.5624017309231363, Test accuracy 0.8561\n",
            "Epoch 36, Train loss 0.06991194682660253, Test loss 0.5828219867151254, Test accuracy 0.8558\n",
            "Epoch 37, Train loss 0.07535510237300125, Test loss 0.5732243459220905, Test accuracy 0.8573\n",
            "Epoch 38, Train loss 0.05972297110653166, Test loss 0.6127966970774779, Test accuracy 0.8509\n",
            "Epoch 39, Train loss 0.0738393603329835, Test loss 0.6065076933165264, Test accuracy 0.8477\n",
            "Epoch 40, Train loss 0.06268263444670087, Test loss 0.6003560779770468, Test accuracy 0.848\n",
            "Epoch 41, Train loss 0.07573050932656221, Test loss 0.6049130312671327, Test accuracy 0.8483\n",
            "Epoch 42, Train loss 0.060949669558378626, Test loss 0.5611387033751056, Test accuracy 0.8561\n",
            "Epoch 43, Train loss 0.06699749265494935, Test loss 0.6132273121624235, Test accuracy 0.8447\n",
            "Epoch 44, Train loss 0.06664615124047203, Test loss 0.6229469369930826, Test accuracy 0.8451\n",
            "Epoch 45, Train loss 0.06121058002843157, Test loss 0.6099464176756562, Test accuracy 0.8536\n",
            "Epoch 46, Train loss 0.06573739659000674, Test loss 0.6181153601901547, Test accuracy 0.8516\n",
            "Epoch 47, Train loss 0.0664844306768216, Test loss 0.5850419593844444, Test accuracy 0.8532\n",
            "Epoch 48, Train loss 0.060234172055331034, Test loss 0.5954919326931808, Test accuracy 0.8501\n",
            "Epoch 49, Train loss 0.058676584797632665, Test loss 0.6186526594742848, Test accuracy 0.8502\n",
            "Epoch 50, Train loss 0.06878962339845288, Test loss 0.5703093907350947, Test accuracy 0.8586\n",
            "Epoch 51, Train loss 0.06008245759909196, Test loss 0.6456397876238368, Test accuracy 0.8455\n",
            "Epoch 52, Train loss 0.061228010599808695, Test loss 0.6229143566956186, Test accuracy 0.8482\n",
            "Epoch 53, Train loss 0.059691121323567714, Test loss 0.591324438240118, Test accuracy 0.85\n",
            "Epoch 54, Train loss 0.0647850673499248, Test loss 0.5962777603298995, Test accuracy 0.8557\n",
            "Epoch 55, Train loss 0.05903934367129679, Test loss 0.5735698106467344, Test accuracy 0.8578\n",
            "Epoch 56, Train loss 0.05734828562425721, Test loss 0.639139988904546, Test accuracy 0.8473\n",
            "Epoch 57, Train loss 0.056923900162973835, Test loss 0.6352717716033291, Test accuracy 0.8457\n",
            "Epoch 58, Train loss 0.05973590718900256, Test loss 0.6573335945985879, Test accuracy 0.8454\n",
            "Epoch 59, Train loss 0.057582585579034444, Test loss 0.6521913249781177, Test accuracy 0.8412\n",
            "Epoch 60, Train loss 0.054471710274624816, Test loss 0.6660775779538853, Test accuracy 0.8364\n",
            "Epoch 61, Train loss 0.06185350605570104, Test loss 0.6269552928816741, Test accuracy 0.8487\n",
            "Epoch 62, Train loss 0.05243462431447014, Test loss 0.6277845217164155, Test accuracy 0.8521\n",
            "Epoch 63, Train loss 0.057382589419577225, Test loss 0.6141987040544011, Test accuracy 0.8482\n",
            "Epoch 64, Train loss 0.05231592869219344, Test loss 0.6484662266863379, Test accuracy 0.8429\n",
            "Epoch 65, Train loss 0.06137381947767275, Test loss 0.6313791877714692, Test accuracy 0.8518\n",
            "Epoch 66, Train loss 0.054714181481877254, Test loss 0.6247556429759712, Test accuracy 0.8552\n",
            "Epoch 67, Train loss 0.050975519034456546, Test loss 0.6614372281322054, Test accuracy 0.8468\n",
            "Epoch 68, Train loss 0.06058001003104269, Test loss 0.660509297232719, Test accuracy 0.84\n",
            "Epoch 69, Train loss 0.050564624132740946, Test loss 0.6479702646944933, Test accuracy 0.8456\n",
            "Epoch 70, Train loss 0.06120807815210946, Test loss 0.6198923292623204, Test accuracy 0.8473\n",
            "Epoch 71, Train loss 0.05611232714965711, Test loss 0.6335575865332488, Test accuracy 0.8501\n",
            "Epoch 72, Train loss 0.04751427528713985, Test loss 0.6268245229960248, Test accuracy 0.8525\n",
            "Epoch 73, Train loss 0.054054331436665146, Test loss 0.6443228238517311, Test accuracy 0.849\n",
            "Epoch 74, Train loss 0.05749356172635885, Test loss 0.6128391023654087, Test accuracy 0.8522\n",
            "Epoch 75, Train loss 0.05830655687683931, Test loss 0.6429857154655608, Test accuracy 0.8467\n",
            "Epoch 76, Train loss 0.04921705016117219, Test loss 0.6783842237512018, Test accuracy 0.8411\n",
            "Epoch 77, Train loss 0.05426642091532745, Test loss 0.6216391326420626, Test accuracy 0.848\n",
            "Epoch 78, Train loss 0.05607021791810441, Test loss 0.6538787147231923, Test accuracy 0.8504\n",
            "Epoch 79, Train loss 0.0525614948737223, Test loss 0.6543219902902652, Test accuracy 0.8476\n",
            "Epoch 80, Train loss 0.059477631799707574, Test loss 0.6715749889422374, Test accuracy 0.8402\n",
            "Epoch 81, Train loss 0.04267251977186098, Test loss 0.629494570765146, Test accuracy 0.849\n",
            "Epoch 82, Train loss 0.05534333744666318, Test loss 0.648321503524188, Test accuracy 0.8402\n",
            "Epoch 83, Train loss 0.058151749262819664, Test loss 0.6652077944700125, Test accuracy 0.8436\n",
            "Epoch 84, Train loss 0.05119160154287744, Test loss 0.6178902003226007, Test accuracy 0.8528\n",
            "Epoch 85, Train loss 0.05205605285780509, Test loss 0.6381293170771022, Test accuracy 0.8444\n",
            "Epoch 86, Train loss 0.047849752776184216, Test loss 0.6584204206610941, Test accuracy 0.8446\n",
            "Epoch 87, Train loss 0.05212229031645466, Test loss 0.6753915911836988, Test accuracy 0.8449\n",
            "Epoch 88, Train loss 0.057612949296000804, Test loss 0.6684329776437419, Test accuracy 0.8412\n",
            "Epoch 89, Train loss 0.05077498115609874, Test loss 0.6524074350003224, Test accuracy 0.8488\n",
            "Epoch 90, Train loss 0.04712027204437348, Test loss 0.6626725079622239, Test accuracy 0.8439\n",
            "Epoch 91, Train loss 0.05565183393477374, Test loss 0.6375772477525055, Test accuracy 0.8461\n",
            "Epoch 92, Train loss 0.04542448647234522, Test loss 0.7154427150821989, Test accuracy 0.8374\n",
            "Epoch 93, Train loss 0.05230917090513146, Test loss 0.670019252664724, Test accuracy 0.8438\n",
            "Epoch 94, Train loss 0.05676803754165035, Test loss 0.6470417957397023, Test accuracy 0.8486\n",
            "Epoch 95, Train loss 0.04147871584027691, Test loss 0.70806851835957, Test accuracy 0.8407\n",
            "Epoch 96, Train loss 0.05133666522929545, Test loss 0.698667668850179, Test accuracy 0.8372\n",
            "Epoch 97, Train loss 0.050308235446074524, Test loss 0.6614123785002216, Test accuracy 0.8451\n",
            "Epoch 98, Train loss 0.054293756116874745, Test loss 0.6547869635140819, Test accuracy 0.8437\n",
            "Epoch 99, Train loss 0.04912380439103069, Test loss 0.6602849944192133, Test accuracy 0.8483\n"
          ]
        }
      ]
    },
    {
      "cell_type": "code",
      "source": [
        "plot_result(train_loss_history, test_loss_history, 100)\n",
        "best_accuracy(test_accuracy_history)"
      ],
      "metadata": {
        "colab": {
          "base_uri": "https://localhost:8080/",
          "height": 297
        },
        "id": "K4QrPRn6jCNP",
        "outputId": "3d31a5e4-a158-46b4-a4aa-fffd9a81a1e2"
      },
      "execution_count": 91,
      "outputs": [
        {
          "output_type": "stream",
          "name": "stdout",
          "text": [
            "Highest accuracy: 0.8728\n"
          ]
        },
        {
          "output_type": "display_data",
          "data": {
            "text/plain": [
              "<Figure size 432x288 with 1 Axes>"
            ],
            "image/png": "[encoded data removed]"
          },
          "metadata": {
            "needs_background": "light"
          }
        }
      ]
    }
  ]
}